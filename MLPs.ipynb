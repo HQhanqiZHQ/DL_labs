{
  "nbformat": 4,
  "nbformat_minor": 0,
  "metadata": {
    "colab": {
      "provenance": [],
      "include_colab_link": true
    },
    "kernelspec": {
      "name": "python3",
      "display_name": "Python 3"
    }
  },
  "cells": [
    {
      "cell_type": "markdown",
      "metadata": {
        "id": "view-in-github",
        "colab_type": "text"
      },
      "source": [
        "<a href=\"https://colab.research.google.com/github/HQhanqiZHQ/DL_labs/blob/main/MLPs.ipynb\" target=\"_parent\"><img src=\"https://colab.research.google.com/assets/colab-badge.svg\" alt=\"Open In Colab\"/></a>"
      ]
    },
    {
      "cell_type": "markdown",
      "metadata": {
        "id": "w3pRFu31UBCF"
      },
      "source": [
        "# Feedforward Networks"
      ]
    },
    {
      "cell_type": "code",
      "metadata": {
        "id": "X_1vkEU0clD2"
      },
      "source": [
        "# Import needed packages\n",
        "import tensorflow as tf\n",
        "import numpy as np\n",
        "from tensorflow import keras\n",
        "import pandas as pd\n",
        "from tensorflow.keras.datasets import mnist\n",
        "from tensorflow.keras.utils import to_categorical\n",
        "from tensorflow.keras import layers\n",
        "import matplotlib.pyplot as plt\n",
        "%matplotlib inline"
      ],
      "execution_count": null,
      "outputs": []
    },
    {
      "cell_type": "markdown",
      "metadata": {
        "id": "l9UsXBmP8Do-"
      },
      "source": [
        "# MNIST Example\n",
        "The MNIST data set includes handwritten digits with corresponding labels.\n",
        "* Training set: 60,000 images of handwritten digits and corresponding labels. Each digit is represented as a 28 x 28 matrix of grayscale values 0 - 255. The entire training set is stored in a 3D tensor of shape (60000, 28, 28).\n",
        "* The corresponding image values are stored as a 1D tensor of values 0 - 9. Testing set: 10,000 images with the same set up as the training set\n"
      ]
    },
    {
      "cell_type": "code",
      "metadata": {
        "colab": {
          "base_uri": "https://localhost:8080/"
        },
        "id": "nMA7WsLDc2Xz",
        "outputId": "d4b0fcc4-062a-4f32-b547-3e96cd748a7e"
      },
      "source": [
        "# Load data\n",
        "(x_train, y_train), (x_test, y_test) = mnist.load_data()\n",
        "# Divide numbers by 255 to scale between 0 and 1\n",
        "x_train, x_test = x_train / 255.0, x_test / 255.0\n",
        "\n",
        "# Make labels into vectors of 0s and 1s\n",
        "y_train = to_categorical(y_train)\n",
        "y_test  = to_categorical(y_test)"
      ],
      "execution_count": null,
      "outputs": [
        {
          "output_type": "stream",
          "name": "stdout",
          "text": [
            "Downloading data from https://storage.googleapis.com/tensorflow/tf-keras-datasets/mnist.npz\n",
            "11490434/11490434 [==============================] - 0s 0us/step\n"
          ]
        }
      ]
    },
    {
      "cell_type": "code",
      "metadata": {
        "id": "54IIjk8Sk0Sr",
        "colab": {
          "base_uri": "https://localhost:8080/",
          "height": 265
        },
        "outputId": "b7173801-8138-4ec9-fdac-716f94ec059a"
      },
      "source": [
        "# Let's take a look at one of the training examples\n",
        "digit = x_train[4] # Randomly chose index 4\n",
        "plt.imshow(digit, cmap = plt.cm.binary)\n",
        "plt.show()"
      ],
      "execution_count": null,
      "outputs": [
        {
          "output_type": "display_data",
          "data": {
            "text/plain": [
              "<Figure size 432x288 with 1 Axes>"
            ],
            "image/png": "[encoded data removed]"
          },
          "metadata": {
            "needs_background": "light"
          }
        }
      ]
    },
    {
      "cell_type": "code",
      "metadata": {
        "id": "oqRGVEbYk7SX",
        "colab": {
          "base_uri": "https://localhost:8080/"
        },
        "outputId": "2ed8bd33-68ad-4fa2-8845-e837e9260177"
      },
      "source": [
        "# Let's look at how many training examples we have\n",
        "x_train.shape"
      ],
      "execution_count": null,
      "outputs": [
        {
          "output_type": "execute_result",
          "data": {
            "text/plain": [
              "(60000, 28, 28)"
            ]
          },
          "metadata": {},
          "execution_count": 4
        }
      ]
    },
    {
      "cell_type": "code",
      "metadata": {
        "id": "lKUpVYPnkKKC",
        "colab": {
          "base_uri": "https://localhost:8080/"
        },
        "outputId": "ecd5d482-f35d-4f7d-8f81-e0a976c15c84"
      },
      "source": [
        "# Define model\n",
        "model = keras.Sequential([\n",
        "  # Make 28x28 image a vector of length 28*28 = 784 with Flatten\n",
        "  layers.Flatten(input_shape=(28, 28)),\n",
        "  # Layer 1 (Hidden layer)\n",
        "  layers.Dense(512, activation='relu'),\n",
        "  # Layer 2 (Output layer)\n",
        "  layers.Dense(10, activation='softmax')\n",
        "])\n",
        "\n",
        "# Define how to execute training\n",
        "model.compile(optimizer='rmsprop',\n",
        "              loss='categorical_crossentropy',\n",
        "              metrics=['accuracy'])\n",
        "\n",
        "# Train the network\n",
        "model.fit(x_train, y_train, epochs=5, batch_size=128)"
      ],
      "execution_count": null,
      "outputs": [
        {
          "output_type": "stream",
          "name": "stdout",
          "text": [
            "Epoch 1/5\n",
            "469/469 [==============================] - 9s 17ms/step - loss: 0.2662 - accuracy: 0.9230\n",
            "Epoch 2/5\n",
            "469/469 [==============================] - 9s 19ms/step - loss: 0.1088 - accuracy: 0.9676\n",
            "Epoch 3/5\n",
            "469/469 [==============================] - 7s 15ms/step - loss: 0.0718 - accuracy: 0.9787\n",
            "Epoch 4/5\n",
            "469/469 [==============================] - 7s 14ms/step - loss: 0.0519 - accuracy: 0.9848\n",
            "Epoch 5/5\n",
            "469/469 [==============================] - 6s 13ms/step - loss: 0.0384 - accuracy: 0.9886\n"
          ]
        },
        {
          "output_type": "execute_result",
          "data": {
            "text/plain": [
              "<keras.callbacks.History at 0x7fc58ae4df70>"
            ]
          },
          "metadata": {},
          "execution_count": 5
        }
      ]
    },
    {
      "cell_type": "code",
      "metadata": {
        "id": "_hacIXaVkxEQ",
        "colab": {
          "base_uri": "https://localhost:8080/"
        },
        "outputId": "ec603fcb-bfc9-4787-d842-ae65ac18a0d2"
      },
      "source": [
        "# Evaluate the model with test data\n",
        "model.evaluate(x_test,  y_test, verbose=2)"
      ],
      "execution_count": null,
      "outputs": [
        {
          "output_type": "stream",
          "name": "stdout",
          "text": [
            "313/313 - 1s - loss: 0.0628 - accuracy: 0.9804 - 1s/epoch - 3ms/step\n"
          ]
        },
        {
          "output_type": "execute_result",
          "data": {
            "text/plain": [
              "[0.06282875686883926, 0.980400025844574]"
            ]
          },
          "metadata": {},
          "execution_count": 6
        }
      ]
    },
    {
      "cell_type": "markdown",
      "metadata": {
        "id": "ZoFth8NwoQJ5"
      },
      "source": [
        "The first value of the output is the test set loss. The second value in the test set accuracy. We see we get a test set accuracy of around 97%. Note that this accuracy is slightly lower than the training set accuracy from the final epoch. This gap between training accuracy and test accuracy is an example of \"overfitting\", the fact that machine learning models tend to perform worse on new data than on their training data. We'll cover this topic in a later lecture.\n",
        "\n"
      ]
    },
    {
      "cell_type": "markdown",
      "metadata": {
        "id": "jVh8IvPPsOYh"
      },
      "source": [
        "# IMDb Example\n",
        "We'll use the IMDB dataset that contains the text of 50,000 movie reviews from the Internet Movie Database. These are split into 25,000 reviews for training and 25,000 reviews for testing. The training and testing sets are balanced, meaning they contain an equal number of positive and negative reviews."
      ]
    },
    {
      "cell_type": "code",
      "metadata": {
        "id": "ZIE3Zi0eHAeC",
        "colab": {
          "base_uri": "https://localhost:8080/"
        },
        "outputId": "6e579e62-728f-4dbf-9e84-b0f2402bb046"
      },
      "source": [
        "from tensorflow.keras.datasets import imdb\n",
        "(train_data, train_labels), (test_data, test_labels) = imdb.load_data(num_words=10000)"
      ],
      "execution_count": null,
      "outputs": [
        {
          "output_type": "stream",
          "name": "stdout",
          "text": [
            "Downloading data from https://storage.googleapis.com/tensorflow/tf-keras-datasets/imdb.npz\n",
            "17464789/17464789 [==============================] - 0s 0us/step\n"
          ]
        }
      ]
    },
    {
      "cell_type": "markdown",
      "metadata": {
        "id": "SsJq1oNBHuE7"
      },
      "source": [
        "The argument `num_words=10000` means that we will only keep the top 10,000 most frequently occurring words in the training data. Rare words will be discarded. This allows us to work with vector data of manageable size.\n",
        "\n",
        "The variables `train_data` and `test_data` are lists of reviews, each review being a list of word indices (encoding a sequence of words). `train_labels` and `test_labels` are lists of 0s and 1s, where 0 stands for \"negative\" and 1 stands for \"positive\":"
      ]
    },
    {
      "cell_type": "code",
      "metadata": {
        "id": "ZRvDqz7XHmPb",
        "colab": {
          "base_uri": "https://localhost:8080/"
        },
        "outputId": "cabf3402-98f2-4f3f-f80d-8bb864373a07"
      },
      "source": [
        "train_data[0]"
      ],
      "execution_count": null,
      "outputs": [
        {
          "output_type": "execute_result",
          "data": {
            "text/plain": [
              "[1,\n",
              " 14,\n",
              " 22,\n",
              " 16,\n",
              " 43,\n",
              " 530,\n",
              " 973,\n",
              " 1622,\n",
              " 1385,\n",
              " 65,\n",
              " 458,\n",
              " 4468,\n",
              " 66,\n",
              " 3941,\n",
              " 4,\n",
              " 173,\n",
              " 36,\n",
              " 256,\n",
              " 5,\n",
              " 25,\n",
              " 100,\n",
              " 43,\n",
              " 838,\n",
              " 112,\n",
              " 50,\n",
              " 670,\n",
              " 2,\n",
              " 9,\n",
              " 35,\n",
              " 480,\n",
              " 284,\n",
              " 5,\n",
              " 150,\n",
              " 4,\n",
              " 172,\n",
              " 112,\n",
              " 167,\n",
              " 2,\n",
              " 336,\n",
              " 385,\n",
              " 39,\n",
              " 4,\n",
              " 172,\n",
              " 4536,\n",
              " 1111,\n",
              " 17,\n",
              " 546,\n",
              " 38,\n",
              " 13,\n",
              " 447,\n",
              " 4,\n",
              " 192,\n",
              " 50,\n",
              " 16,\n",
              " 6,\n",
              " 147,\n",
              " 2025,\n",
              " 19,\n",
              " 14,\n",
              " 22,\n",
              " 4,\n",
              " 1920,\n",
              " 4613,\n",
              " 469,\n",
              " 4,\n",
              " 22,\n",
              " 71,\n",
              " 87,\n",
              " 12,\n",
              " 16,\n",
              " 43,\n",
              " 530,\n",
              " 38,\n",
              " 76,\n",
              " 15,\n",
              " 13,\n",
              " 1247,\n",
              " 4,\n",
              " 22,\n",
              " 17,\n",
              " 515,\n",
              " 17,\n",
              " 12,\n",
              " 16,\n",
              " 626,\n",
              " 18,\n",
              " 2,\n",
              " 5,\n",
              " 62,\n",
              " 386,\n",
              " 12,\n",
              " 8,\n",
              " 316,\n",
              " 8,\n",
              " 106,\n",
              " 5,\n",
              " 4,\n",
              " 2223,\n",
              " 5244,\n",
              " 16,\n",
              " 480,\n",
              " 66,\n",
              " 3785,\n",
              " 33,\n",
              " 4,\n",
              " 130,\n",
              " 12,\n",
              " 16,\n",
              " 38,\n",
              " 619,\n",
              " 5,\n",
              " 25,\n",
              " 124,\n",
              " 51,\n",
              " 36,\n",
              " 135,\n",
              " 48,\n",
              " 25,\n",
              " 1415,\n",
              " 33,\n",
              " 6,\n",
              " 22,\n",
              " 12,\n",
              " 215,\n",
              " 28,\n",
              " 77,\n",
              " 52,\n",
              " 5,\n",
              " 14,\n",
              " 407,\n",
              " 16,\n",
              " 82,\n",
              " 2,\n",
              " 8,\n",
              " 4,\n",
              " 107,\n",
              " 117,\n",
              " 5952,\n",
              " 15,\n",
              " 256,\n",
              " 4,\n",
              " 2,\n",
              " 7,\n",
              " 3766,\n",
              " 5,\n",
              " 723,\n",
              " 36,\n",
              " 71,\n",
              " 43,\n",
              " 530,\n",
              " 476,\n",
              " 26,\n",
              " 400,\n",
              " 317,\n",
              " 46,\n",
              " 7,\n",
              " 4,\n",
              " 2,\n",
              " 1029,\n",
              " 13,\n",
              " 104,\n",
              " 88,\n",
              " 4,\n",
              " 381,\n",
              " 15,\n",
              " 297,\n",
              " 98,\n",
              " 32,\n",
              " 2071,\n",
              " 56,\n",
              " 26,\n",
              " 141,\n",
              " 6,\n",
              " 194,\n",
              " 7486,\n",
              " 18,\n",
              " 4,\n",
              " 226,\n",
              " 22,\n",
              " 21,\n",
              " 134,\n",
              " 476,\n",
              " 26,\n",
              " 480,\n",
              " 5,\n",
              " 144,\n",
              " 30,\n",
              " 5535,\n",
              " 18,\n",
              " 51,\n",
              " 36,\n",
              " 28,\n",
              " 224,\n",
              " 92,\n",
              " 25,\n",
              " 104,\n",
              " 4,\n",
              " 226,\n",
              " 65,\n",
              " 16,\n",
              " 38,\n",
              " 1334,\n",
              " 88,\n",
              " 12,\n",
              " 16,\n",
              " 283,\n",
              " 5,\n",
              " 16,\n",
              " 4472,\n",
              " 113,\n",
              " 103,\n",
              " 32,\n",
              " 15,\n",
              " 16,\n",
              " 5345,\n",
              " 19,\n",
              " 178,\n",
              " 32]"
            ]
          },
          "metadata": {},
          "execution_count": 8
        }
      ]
    },
    {
      "cell_type": "code",
      "metadata": {
        "id": "TC5s3ufPH6ni",
        "colab": {
          "base_uri": "https://localhost:8080/"
        },
        "outputId": "a4baf9f6-ba06-40f9-8c1b-c68543fc4324"
      },
      "source": [
        "train_labels[0]"
      ],
      "execution_count": null,
      "outputs": [
        {
          "output_type": "execute_result",
          "data": {
            "text/plain": [
              "1"
            ]
          },
          "metadata": {},
          "execution_count": 9
        }
      ]
    },
    {
      "cell_type": "markdown",
      "metadata": {
        "id": "CbIILrBygJgB"
      },
      "source": [
        "If you want to see how to reverse code the above to see the original review, the code is below."
      ]
    },
    {
      "cell_type": "code",
      "metadata": {
        "id": "1pb1alkIH-IE",
        "colab": {
          "base_uri": "https://localhost:8080/"
        },
        "outputId": "4038ffab-6e99-4f2f-ace1-e5711ba9720c"
      },
      "source": [
        "# word_index is a dictionary mapping words to an integer index\n",
        "word_index = imdb.get_word_index()\n",
        "# We reverse it, mapping integer indices to words\n",
        "reverse_word_index = dict([(value, key) for (key, value) in word_index.items()])\n",
        "# We decode the review; note that our indices were offset by 3\n",
        "# because 0, 1 a nd 2 are reserved indices for \"padding\", \"start of sequence\", and \"unknown\".\n",
        "decoded_review = ' '.join([reverse_word_index.get(i - 3, '?') for i in train_data[0]])"
      ],
      "execution_count": null,
      "outputs": [
        {
          "output_type": "stream",
          "name": "stdout",
          "text": [
            "Downloading data from https://storage.googleapis.com/tensorflow/tf-keras-datasets/imdb_word_index.json\n",
            "1641221/1641221 [==============================] - 0s 0us/step\n"
          ]
        }
      ]
    },
    {
      "cell_type": "code",
      "metadata": {
        "id": "Pzok_NXrIDdH",
        "colab": {
          "base_uri": "https://localhost:8080/",
          "height": 105
        },
        "outputId": "7fe5c9d2-c909-4ee0-eaa8-afe20bfac678"
      },
      "source": [
        "decoded_review"
      ],
      "execution_count": null,
      "outputs": [
        {
          "output_type": "execute_result",
          "data": {
            "text/plain": [
              "\"? this film was just brilliant casting location scenery story direction everyone's really suited the part they played and you could just imagine being there robert ? is an amazing actor and now the same being director ? father came from the same scottish island as myself so i loved the fact there was a real connection with this film the witty remarks throughout the film were great it was just brilliant so much that i bought the film as soon as it was released for ? and would recommend it to everyone to watch and the fly fishing was amazing really cried at the end it was so sad and you know what they say if you cry at a film it must have been good and this definitely was also ? to the two little boy's that played the ? of norman and paul they were just brilliant children are often left out of the ? list i think because the stars that play them all grown up are such a big profile for the whole film but these children are amazing and should be praised for what they have done don't you think the whole story was so lovely because it was true and was someone's life after all that was shared with us all\""
            ],
            "application/vnd.google.colaboratory.intrinsic+json": {
              "type": "string"
            }
          },
          "metadata": {},
          "execution_count": 11
        }
      ]
    },
    {
      "cell_type": "markdown",
      "metadata": {
        "id": "p9eW27fTIkry"
      },
      "source": [
        "### Preparing the data\n",
        "We cannot feed lists of integers into a neural network. We have to turn our lists into tensors. There are two ways we could do that:\n",
        "\n",
        "1. We could pad our lists so that they all have the same length, and turn them into an integer tensor of shape (samples, word_indices), then use as first layer in our network a layer capable of handling such integer tensors (the Embedding layer, which we will cover in detail later in the course).\n",
        "2. We could one-hot-encode our lists to turn them into vectors of 0s and 1s. Concretely, this would mean for instance turning the sequence [3, 5] into a 10,000-dimensional vector that would be all-zeros except for indices 3 and 5, which would be ones. Then we could use as first layer in our network a Dense layer, capable of handling floating point vector data.\n",
        "\n",
        "We will go with the latter solution. Let's vectorize our data, which we will do manually."
      ]
    },
    {
      "cell_type": "code",
      "metadata": {
        "id": "5TEJTwu5Iuin"
      },
      "source": [
        "def vectorize_sequences(sequences, dimension = 10000):\n",
        "    results = np.zeros((len(sequences), dimension))\n",
        "    for i, sequence in enumerate(sequences):\n",
        "        results[i, sequence] = 1.\n",
        "    return results\n",
        "\n",
        "x_train = vectorize_sequences(train_data)\n",
        "x_test  = vectorize_sequences(test_data)"
      ],
      "execution_count": null,
      "outputs": []
    },
    {
      "cell_type": "markdown",
      "metadata": {
        "id": "LmiM2_aBI3Z1"
      },
      "source": [
        "Here's what our samples look like now:"
      ]
    },
    {
      "cell_type": "code",
      "metadata": {
        "id": "j6Bs4MvDI234",
        "colab": {
          "base_uri": "https://localhost:8080/"
        },
        "outputId": "17f90cdb-b01b-4df5-819a-71e7ad23c865"
      },
      "source": [
        "x_train[0]"
      ],
      "execution_count": null,
      "outputs": [
        {
          "output_type": "execute_result",
          "data": {
            "text/plain": [
              "array([0., 1., 1., ..., 0., 0., 0.])"
            ]
          },
          "metadata": {},
          "execution_count": 13
        }
      ]
    },
    {
      "cell_type": "markdown",
      "metadata": {
        "id": "jLro1oq5I-H9"
      },
      "source": [
        "We should also vectorize our labels, which is straightforward:"
      ]
    },
    {
      "cell_type": "code",
      "metadata": {
        "id": "ZFdR1tpEI-wf"
      },
      "source": [
        "y_train = np.asarray(train_labels).astype('float32')\n",
        "y_test  = np.asarray(test_labels).astype('float32')"
      ],
      "execution_count": null,
      "outputs": []
    },
    {
      "cell_type": "markdown",
      "metadata": {
        "id": "Xq-oQ-y1JBB2"
      },
      "source": [
        "### Building the network\n",
        "Our input data is simply vectors, and our labels are scalars (1s and 0s): this is the easiest setup you will ever encounter. A type of network that performs well on such a problem would be a simple stack of fully-connected (`Dense`) layers with `relu` activations: `Dense(16, activation='relu'`)\n",
        "\n",
        "The argument being passed to each `Dense` layer (16) is the number of \"hidden units\" of the layer. Having 16 hidden units means that the weight matrix `W` will have shape (`input_dimension`, 16), i.e. the dot product with `W` will project the input data onto a 16-dimensional representation space (and then we would add the bias vector b and apply the `relu` operation). You can intuitively understand the dimensionality of your representation space as \"how much freedom you are allowing the network to have when learning internal representations\". **Having more hidden units (a higher-dimensional representation space) allows your network to learn more complex representations, but it makes your network more computationally expensive and may lead to learning unwanted patterns (patterns that will improve performance on the training data but not on the test data)**.\n",
        "\n",
        "Here we will use an architecture consisting of two intermediate layers with 16 hidden units each, and a third layer which will output the scalar prediction regarding the sentiment of the current review. The intermediate layers will use `relu` as their activation function, and the final layer will use a `sigmoid` activation so as to output a probability (a score between 0 and 1, indicating how likely the sample is to have the target \"1\", i.e. how likely the review is to be positive). A `relu` is a function meant to zero-out negative values, while a sigmoid \"squashes\" arbitrary values into the [0, 1] interval, thus outputting something that can be interpreted as a probability."
      ]
    },
    {
      "cell_type": "code",
      "metadata": {
        "id": "d7rGq1uAJDQ4"
      },
      "source": [
        "# Define model\n",
        "model = keras.Sequential([\n",
        "  # Layer 1 (Hidden layer)\n",
        "  layers.Dense(16, activation='relu'),\n",
        "  # Layer 2 (Hidden layer)\n",
        "  layers.Dense(16, activation='relu'),\n",
        "  # Layer 3 (Output layer)\n",
        "  layers.Dense(1, activation='sigmoid')\n",
        "])"
      ],
      "execution_count": null,
      "outputs": []
    },
    {
      "cell_type": "markdown",
      "metadata": {
        "id": "WK-3m2rEJa1U"
      },
      "source": [
        "Finally, we need to pick a loss function and an optimizer. Since we are facing a binary classification problem and the output of our network is a probability (we end our network with a single-unit layer with a `sigmoid` activation), is it best to use the `binary_crossentropy` loss. It isn't the only viable choice: you could use, for instance, `mean_squared_error`. But **crossentropy is usually the best choice when you are dealing with models that output probabilities**. Crossentropy is a quantity from the field of Information Theory, that measures the \"distance\" between probability distributions, or in our case, between the ground-truth distribution and our predictions.\n",
        "\n",
        "Here's the step where we configure our model with the `rmsprop` optimizer and the `binary_crossentropy` loss function. Note that we will also monitor accuracy during training."
      ]
    },
    {
      "cell_type": "code",
      "metadata": {
        "id": "fLHHFD5lJWdR"
      },
      "source": [
        "# Define how to execute training\n",
        "model.compile(optimizer='rmsprop',\n",
        "              loss='binary_crossentropy',\n",
        "              metrics=['accuracy'])"
      ],
      "execution_count": null,
      "outputs": []
    },
    {
      "cell_type": "markdown",
      "metadata": {
        "id": "NHM5MMAOJgaM"
      },
      "source": [
        "### Validation\n",
        "In order to monitor during training the accuracy of the model on data that it has never seen before, we will create a \"validation set\" by setting apart 10,000 samples from the original training data:"
      ]
    },
    {
      "cell_type": "code",
      "metadata": {
        "id": "BzI_xYi1JWlL"
      },
      "source": [
        "x_val = x_train[:10000]\n",
        "partial_x_train = x_train[10000:]\n",
        "\n",
        "y_val = y_train[:10000]\n",
        "partial_y_train = y_train[10000:]"
      ],
      "execution_count": null,
      "outputs": []
    },
    {
      "cell_type": "markdown",
      "metadata": {
        "id": "dYIc5QX3Jxkg"
      },
      "source": [
        "We will now train our model for 20 epochs (20 iterations over all samples in the `x_train` and `y_train` tensors), in mini-batches of 512 samples. At this same time we will monitor loss and accuracy on the 10,000 samples that we set apart. This is done by passing the validation data as the validation_data argument:"
      ]
    },
    {
      "cell_type": "code",
      "metadata": {
        "id": "X7XTzw8HJx1A",
        "colab": {
          "base_uri": "https://localhost:8080/"
        },
        "outputId": "bdd4797a-14bf-4dd2-e9a4-3fa7c32f4641"
      },
      "source": [
        "history = model.fit(partial_x_train,\n",
        "                    partial_y_train,\n",
        "                    epochs = 20,\n",
        "                    batch_size = 512,\n",
        "                    validation_data = (x_val, y_val))"
      ],
      "execution_count": null,
      "outputs": [
        {
          "output_type": "stream",
          "name": "stdout",
          "text": [
            "Epoch 1/20\n",
            "30/30 [==============================] - 3s 69ms/step - loss: 0.5746 - accuracy: 0.7675 - val_loss: 0.4467 - val_accuracy: 0.8502\n",
            "Epoch 2/20\n",
            "30/30 [==============================] - 1s 41ms/step - loss: 0.3667 - accuracy: 0.8848 - val_loss: 0.3435 - val_accuracy: 0.8729\n",
            "Epoch 3/20\n",
            "30/30 [==============================] - 1s 42ms/step - loss: 0.2703 - accuracy: 0.9129 - val_loss: 0.2941 - val_accuracy: 0.8871\n",
            "Epoch 4/20\n",
            "30/30 [==============================] - 1s 42ms/step - loss: 0.2172 - accuracy: 0.9289 - val_loss: 0.2899 - val_accuracy: 0.8853\n",
            "Epoch 5/20\n",
            "30/30 [==============================] - 1s 40ms/step - loss: 0.1790 - accuracy: 0.9412 - val_loss: 0.2890 - val_accuracy: 0.8834\n",
            "Epoch 6/20\n",
            "30/30 [==============================] - 1s 40ms/step - loss: 0.1513 - accuracy: 0.9514 - val_loss: 0.2988 - val_accuracy: 0.8810\n",
            "Epoch 7/20\n",
            "30/30 [==============================] - 2s 60ms/step - loss: 0.1289 - accuracy: 0.9598 - val_loss: 0.2986 - val_accuracy: 0.8837\n",
            "Epoch 8/20\n",
            "30/30 [==============================] - 2s 67ms/step - loss: 0.1083 - accuracy: 0.9674 - val_loss: 0.3011 - val_accuracy: 0.8842\n",
            "Epoch 9/20\n",
            "30/30 [==============================] - 1s 46ms/step - loss: 0.0932 - accuracy: 0.9737 - val_loss: 0.3290 - val_accuracy: 0.8768\n",
            "Epoch 10/20\n",
            "30/30 [==============================] - 1s 42ms/step - loss: 0.0812 - accuracy: 0.9783 - val_loss: 0.3385 - val_accuracy: 0.8803\n",
            "Epoch 11/20\n",
            "30/30 [==============================] - 1s 42ms/step - loss: 0.0669 - accuracy: 0.9836 - val_loss: 0.3741 - val_accuracy: 0.8695\n",
            "Epoch 12/20\n",
            "30/30 [==============================] - 1s 39ms/step - loss: 0.0585 - accuracy: 0.9857 - val_loss: 0.3614 - val_accuracy: 0.8787\n",
            "Epoch 13/20\n",
            "30/30 [==============================] - 1s 39ms/step - loss: 0.0471 - accuracy: 0.9897 - val_loss: 0.4260 - val_accuracy: 0.8714\n",
            "Epoch 14/20\n",
            "30/30 [==============================] - 1s 38ms/step - loss: 0.0423 - accuracy: 0.9914 - val_loss: 0.4005 - val_accuracy: 0.8764\n",
            "Epoch 15/20\n",
            "30/30 [==============================] - 1s 38ms/step - loss: 0.0338 - accuracy: 0.9934 - val_loss: 0.4213 - val_accuracy: 0.8758\n",
            "Epoch 16/20\n",
            "30/30 [==============================] - 1s 40ms/step - loss: 0.0276 - accuracy: 0.9951 - val_loss: 0.4681 - val_accuracy: 0.8665\n",
            "Epoch 17/20\n",
            "30/30 [==============================] - 2s 55ms/step - loss: 0.0220 - accuracy: 0.9971 - val_loss: 0.4676 - val_accuracy: 0.8739\n",
            "Epoch 18/20\n",
            "30/30 [==============================] - 3s 105ms/step - loss: 0.0175 - accuracy: 0.9982 - val_loss: 0.4959 - val_accuracy: 0.8726\n",
            "Epoch 19/20\n",
            "30/30 [==============================] - 3s 102ms/step - loss: 0.0169 - accuracy: 0.9974 - val_loss: 0.5131 - val_accuracy: 0.8730\n",
            "Epoch 20/20\n",
            "30/30 [==============================] - 2s 82ms/step - loss: 0.0128 - accuracy: 0.9988 - val_loss: 0.5349 - val_accuracy: 0.8721\n"
          ]
        }
      ]
    },
    {
      "cell_type": "markdown",
      "metadata": {
        "id": "TTOH4XgzJ9jI"
      },
      "source": [
        "Note that the call to `model.fit()` returns a `History` object. This object has a member `history`, which is a dictionary containing data about everything that happened during training. It contains 4 entries: one per metric that was being monitored, during training and during validation."
      ]
    },
    {
      "cell_type": "code",
      "metadata": {
        "id": "mkzAoG8uJ-g3",
        "colab": {
          "base_uri": "https://localhost:8080/"
        },
        "outputId": "8d6a13b4-8b73-403a-9e48-a56663a545bb"
      },
      "source": [
        "history_dict = history.history\n",
        "history_dict.keys()"
      ],
      "execution_count": null,
      "outputs": [
        {
          "output_type": "execute_result",
          "data": {
            "text/plain": [
              "dict_keys(['loss', 'accuracy', 'val_loss', 'val_accuracy'])"
            ]
          },
          "metadata": {},
          "execution_count": 20
        }
      ]
    },
    {
      "cell_type": "markdown",
      "metadata": {
        "id": "ughITdwgKRfu"
      },
      "source": [
        "Let's plot the training and validation loss side by side, as well as the training and validation accuracy:"
      ]
    },
    {
      "cell_type": "code",
      "metadata": {
        "id": "wIKJPVxzKSmO"
      },
      "source": [
        "import seaborn as sns\n",
        "sns.set()\n",
        "\n",
        "train_acc  = history.history['accuracy']\n",
        "train_loss = history.history['loss']\n",
        "val_acc  = history.history['val_accuracy']\n",
        "val_loss = history.history['val_loss']\n",
        "\n",
        "epochs = range(1, len(train_acc) + 1)"
      ],
      "execution_count": null,
      "outputs": []
    },
    {
      "cell_type": "code",
      "metadata": {
        "id": "nyrJZwUwMi1K",
        "colab": {
          "base_uri": "https://localhost:8080/",
          "height": 306
        },
        "outputId": "87faa337-7819-4d43-f6d5-161edd2d6789"
      },
      "source": [
        "plt.plot(epochs, train_loss, label = 'Training Loss')\n",
        "plt.plot(epochs, val_loss, label = 'Validation Loss')\n",
        "plt.xlabel('Epochs')\n",
        "plt.ylabel('Loss')\n",
        "plt.legend()"
      ],
      "execution_count": null,
      "outputs": [
        {
          "output_type": "execute_result",
          "data": {
            "text/plain": [
              "<matplotlib.legend.Legend at 0x7f5ccbd89160>"
            ]
          },
          "metadata": {},
          "execution_count": 22
        },
        {
          "output_type": "display_data",
          "data": {
            "text/plain": [
              "<Figure size 432x288 with 1 Axes>"
            ],
            "image/png": "[encoded data removed]"
          },
          "metadata": {}
        }
      ]
    },
    {
      "cell_type": "code",
      "metadata": {
        "id": "Jt8PUHb3NMiI",
        "colab": {
          "base_uri": "https://localhost:8080/",
          "height": 303
        },
        "outputId": "c313bfc5-09f7-403c-8f34-22243a4e8ee7"
      },
      "source": [
        "plt.plot(epochs, train_acc, label = 'Training Accuracy')\n",
        "plt.plot(epochs, val_acc, label = 'Validation Accuracy')\n",
        "plt.xlabel('Epochs')\n",
        "plt.ylabel('Accuracy')\n",
        "plt.legend()"
      ],
      "execution_count": null,
      "outputs": [
        {
          "output_type": "execute_result",
          "data": {
            "text/plain": [
              "<matplotlib.legend.Legend at 0x7f347039ead0>"
            ]
          },
          "metadata": {},
          "execution_count": 22
        },
        {
          "output_type": "display_data",
          "data": {
            "text/plain": [
              "<Figure size 432x288 with 1 Axes>"
            ],
            "image/png": "[encoded data removed]"
          },
          "metadata": {}
        }
      ]
    },
    {
      "cell_type": "markdown",
      "metadata": {
        "id": "VdL0PvMjNZox"
      },
      "source": [
        "As you can see, the training loss decreases with every epoch and the training accuracy increases with every epoch. That's what you would expect when running gradient descent optimization -- the quantity you are trying to minimize should get lower with every iteration. But that isn't the case for the validation loss and accuracy: they seem to peak at the fourth epoch. This is an example of what we were warning against earlier: a model that performs better on the training data isn't necessarily a model that will do better on data it has never seen before. In precise terms, what you are seeing is \"overfitting\": after the second epoch, we are over-optimizing on the training data, and we ended up learning representations that are specific to the training data and do not generalize to data outside of the training set.\n",
        "\n",
        "In this case, to prevent overfitting, we could simply stop training after four epochs. In general, there is a range of techniques you can leverage to mitigate overfitting, which we will cover next.\n",
        "\n",
        "Let's train a new network from scratch for four epochs, then evaluate it on our test data:"
      ]
    },
    {
      "cell_type": "code",
      "metadata": {
        "id": "6CECSRScNov7",
        "colab": {
          "base_uri": "https://localhost:8080/"
        },
        "outputId": "4fcaa840-11f6-4b34-f32c-0830f21c8ec9"
      },
      "source": [
        "# Define model\n",
        "model = keras.Sequential([\n",
        "  # Layer 1 (Hidden layer)\n",
        "  layers.Dense(16, activation='relu'),\n",
        "  # Layer 2 (Hidden layer)\n",
        "  layers.Dense(16, activation='relu'),\n",
        "  # Layer 3 (Output layer)\n",
        "  layers.Dense(1, activation='sigmoid')\n",
        "])\n",
        "\n",
        "# Define how to execute training\n",
        "model.compile(optimizer='rmsprop',\n",
        "              loss='binary_crossentropy',\n",
        "              metrics=['accuracy'])\n",
        "\n",
        "model.fit(x_train, y_train, epochs = 4, batch_size = 512)\n",
        "results = model.evaluate(x_test, y_test)"
      ],
      "execution_count": null,
      "outputs": [
        {
          "output_type": "stream",
          "text": [
            "Epoch 1/4\n",
            "49/49 [==============================] - 1s 17ms/step - loss: 0.5544 - accuracy: 0.7427\n",
            "Epoch 2/4\n",
            "49/49 [==============================] - 1s 16ms/step - loss: 0.2735 - accuracy: 0.9094\n",
            "Epoch 3/4\n",
            "49/49 [==============================] - 1s 16ms/step - loss: 0.2009 - accuracy: 0.9322\n",
            "Epoch 4/4\n",
            "49/49 [==============================] - 1s 16ms/step - loss: 0.1617 - accuracy: 0.9454\n",
            "782/782 [==============================] - 1s 2ms/step - loss: 0.3244 - accuracy: 0.8715\n"
          ],
          "name": "stdout"
        }
      ]
    },
    {
      "cell_type": "code",
      "metadata": {
        "id": "3Vcuis91PhIK",
        "colab": {
          "base_uri": "https://localhost:8080/"
        },
        "outputId": "3bb7793f-7774-49d4-8079-4fc61a16c272"
      },
      "source": [
        "results"
      ],
      "execution_count": null,
      "outputs": [
        {
          "output_type": "execute_result",
          "data": {
            "text/plain": [
              "[0.32440364360809326, 0.8714799880981445]"
            ]
          },
          "metadata": {
            "tags": []
          },
          "execution_count": 25
        }
      ]
    },
    {
      "cell_type": "markdown",
      "metadata": {
        "id": "nt5iyL-_Pk19"
      },
      "source": [
        "Our fairly naive approach achieves an accuracy of 88%. With state-of-the-art approaches, one should be able to get close to 95%."
      ]
    },
    {
      "cell_type": "markdown",
      "metadata": {
        "id": "X4VPJYLLPuvf"
      },
      "source": [
        "### Regularization\n",
        "It's clear the model is overfitting. How can we mitigate this? We'll cover 3 ways:\n",
        "1. Reduce network size\n",
        "2. Weight regularization\n",
        "3. Dropout\n",
        "\n",
        "#### Reduce network size\n",
        "One quick way to reduce the complexity of a model is to reduce it's size by decreasing the number of hidden nodes in one or more hidden layers. Let's reduce our number from 16 to 4 and see how it performs.\n"
      ]
    },
    {
      "cell_type": "code",
      "metadata": {
        "id": "JUAHLiRabVv5"
      },
      "source": [
        "# Define model\n",
        "model2 = keras.Sequential([\n",
        "  # Layer 1 (Hidden layer)\n",
        "  layers.Dense(4, activation='relu'),\n",
        "  # Layer 2 (Hidden layer)\n",
        "  layers.Dense(4, activation='relu'),\n",
        "  # Layer 3 (Output layer)\n",
        "  layers.Dense(1, activation='sigmoid')\n",
        "])\n",
        "\n",
        "# Define how to execute training\n",
        "model2.compile(optimizer='rmsprop',\n",
        "              loss='binary_crossentropy',\n",
        "              metrics=['accuracy'])"
      ],
      "execution_count": null,
      "outputs": []
    },
    {
      "cell_type": "code",
      "metadata": {
        "id": "imPaQiQAbWHD",
        "colab": {
          "base_uri": "https://localhost:8080/"
        },
        "outputId": "c6cf1d51-cd02-44c9-9a55-917a2a498939"
      },
      "source": [
        "history2 = model2.fit(partial_x_train,\n",
        "                      partial_y_train,\n",
        "                      epochs=20,\n",
        "                      batch_size=512,\n",
        "                      validation_data=(x_val, y_val))"
      ],
      "execution_count": null,
      "outputs": [
        {
          "output_type": "stream",
          "text": [
            "Epoch 1/20\n",
            "30/30 [==============================] - 1s 29ms/step - loss: 0.6543 - accuracy: 0.6049 - val_loss: 0.5362 - val_accuracy: 0.7657\n",
            "Epoch 2/20\n",
            "30/30 [==============================] - 1s 20ms/step - loss: 0.4860 - accuracy: 0.8488 - val_loss: 0.4534 - val_accuracy: 0.8543\n",
            "Epoch 3/20\n",
            "30/30 [==============================] - 1s 20ms/step - loss: 0.3979 - accuracy: 0.9039 - val_loss: 0.3917 - val_accuracy: 0.8702\n",
            "Epoch 4/20\n",
            "30/30 [==============================] - 1s 20ms/step - loss: 0.3232 - accuracy: 0.9295 - val_loss: 0.3446 - val_accuracy: 0.8893\n",
            "Epoch 5/20\n",
            "30/30 [==============================] - 1s 20ms/step - loss: 0.2674 - accuracy: 0.9411 - val_loss: 0.3152 - val_accuracy: 0.8890\n",
            "Epoch 6/20\n",
            "30/30 [==============================] - 1s 20ms/step - loss: 0.2202 - accuracy: 0.9527 - val_loss: 0.3022 - val_accuracy: 0.8861\n",
            "Epoch 7/20\n",
            "30/30 [==============================] - 1s 20ms/step - loss: 0.1895 - accuracy: 0.9548 - val_loss: 0.2784 - val_accuracy: 0.8890\n",
            "Epoch 8/20\n",
            "30/30 [==============================] - 1s 21ms/step - loss: 0.1575 - accuracy: 0.9588 - val_loss: 0.2761 - val_accuracy: 0.8885\n",
            "Epoch 9/20\n",
            "30/30 [==============================] - 1s 20ms/step - loss: 0.1297 - accuracy: 0.9669 - val_loss: 0.2809 - val_accuracy: 0.8870\n",
            "Epoch 10/20\n",
            "30/30 [==============================] - 1s 21ms/step - loss: 0.1108 - accuracy: 0.9733 - val_loss: 0.2957 - val_accuracy: 0.8827\n",
            "Epoch 11/20\n",
            "30/30 [==============================] - 1s 20ms/step - loss: 0.1014 - accuracy: 0.9771 - val_loss: 0.2943 - val_accuracy: 0.8851\n",
            "Epoch 12/20\n",
            "30/30 [==============================] - 1s 23ms/step - loss: 0.0890 - accuracy: 0.9810 - val_loss: 0.3228 - val_accuracy: 0.8773\n",
            "Epoch 13/20\n",
            "30/30 [==============================] - 1s 25ms/step - loss: 0.0796 - accuracy: 0.9828 - val_loss: 0.3152 - val_accuracy: 0.8827\n",
            "Epoch 14/20\n",
            "30/30 [==============================] - 1s 35ms/step - loss: 0.0709 - accuracy: 0.9847 - val_loss: 0.3272 - val_accuracy: 0.8805\n",
            "Epoch 15/20\n",
            "30/30 [==============================] - 1s 47ms/step - loss: 0.0609 - accuracy: 0.9893 - val_loss: 0.3404 - val_accuracy: 0.8784\n",
            "Epoch 16/20\n",
            "30/30 [==============================] - 1s 29ms/step - loss: 0.0527 - accuracy: 0.9913 - val_loss: 0.3548 - val_accuracy: 0.8765\n",
            "Epoch 17/20\n",
            "30/30 [==============================] - 1s 27ms/step - loss: 0.0488 - accuracy: 0.9915 - val_loss: 0.3759 - val_accuracy: 0.8746\n",
            "Epoch 18/20\n",
            "30/30 [==============================] - 1s 22ms/step - loss: 0.0415 - accuracy: 0.9930 - val_loss: 0.3924 - val_accuracy: 0.8722\n",
            "Epoch 19/20\n",
            "30/30 [==============================] - 1s 21ms/step - loss: 0.0385 - accuracy: 0.9950 - val_loss: 0.4041 - val_accuracy: 0.8730\n",
            "Epoch 20/20\n",
            "30/30 [==============================] - 1s 21ms/step - loss: 0.0325 - accuracy: 0.9960 - val_loss: 0.4117 - val_accuracy: 0.8722\n"
          ],
          "name": "stdout"
        }
      ]
    },
    {
      "cell_type": "code",
      "metadata": {
        "id": "a5Y77GWIbWLC"
      },
      "source": [
        "import seaborn as sns\n",
        "sns.set()\n",
        "\n",
        "train_acc2  = history2.history['accuracy']\n",
        "train_loss2 = history2.history['loss']\n",
        "val_acc2  = history2.history['val_accuracy']\n",
        "val_loss2 = history2.history['val_loss']\n",
        "\n",
        "epochs = range(1, len(train_acc2) + 1)"
      ],
      "execution_count": null,
      "outputs": []
    },
    {
      "cell_type": "code",
      "metadata": {
        "id": "THbNNehEbWPJ",
        "colab": {
          "base_uri": "https://localhost:8080/",
          "height": 303
        },
        "outputId": "1d496740-de19-4261-ea1b-25e73dc5b10e"
      },
      "source": [
        "plt.plot(epochs, train_loss2, label = 'Training Loss')\n",
        "plt.plot(epochs, val_loss2, label = 'Validation Loss')\n",
        "plt.xlabel('Epochs')\n",
        "plt.ylabel('Loss')\n",
        "plt.legend()"
      ],
      "execution_count": null,
      "outputs": [
        {
          "output_type": "execute_result",
          "data": {
            "text/plain": [
              "<matplotlib.legend.Legend at 0x7f21d68a2190>"
            ]
          },
          "metadata": {
            "tags": []
          },
          "execution_count": 29
        },
        {
          "output_type": "display_data",
          "data": {
            "image/png": "[encoded data removed]",
            "text/plain": [
              "<Figure size 432x288 with 1 Axes>"
            ]
          },
          "metadata": {
            "tags": []
          }
        }
      ]
    },
    {
      "cell_type": "code",
      "metadata": {
        "id": "Hd7I1vzf1KEv",
        "colab": {
          "base_uri": "https://localhost:8080/",
          "height": 303
        },
        "outputId": "e4b94c27-77f6-4625-ea1f-b067ade6be15"
      },
      "source": [
        "plt.plot(epochs, val_loss, label = 'Original model')\n",
        "plt.plot(epochs, val_loss2, label = 'Simpler model')\n",
        "plt.xlabel('Epochs')\n",
        "plt.ylabel('Loss')\n",
        "plt.legend()"
      ],
      "execution_count": null,
      "outputs": [
        {
          "output_type": "execute_result",
          "data": {
            "text/plain": [
              "<matplotlib.legend.Legend at 0x7f21d68a2c50>"
            ]
          },
          "metadata": {
            "tags": []
          },
          "execution_count": 30
        },
        {
          "output_type": "display_data",
          "data": {
            "image/png": "[encoded data removed]",
            "text/plain": [
              "<Figure size 432x288 with 1 Axes>"
            ]
          },
          "metadata": {
            "tags": []
          }
        }
      ]
    },
    {
      "cell_type": "markdown",
      "metadata": {
        "id": "AdARFFNadmS2"
      },
      "source": [
        "The smaller network performs better than the original model - it starts to overfit around epoch 10 rather than epoch 5. These values are when the validation loss starts to increase.\n",
        "\n",
        "What happens if we make the model more complex by incrasing 16 to 512?"
      ]
    },
    {
      "cell_type": "code",
      "metadata": {
        "id": "Zg9_p4I6bWS2"
      },
      "source": [
        "# Define model\n",
        "model3 = keras.Sequential([\n",
        "  # Layer 1 (Hidden layer)\n",
        "  layers.Dense(512, activation='relu'),\n",
        "  # Layer 2 (Hidden layer)\n",
        "  layers.Dense(512, activation='relu'),\n",
        "  # Layer 3 (Output layer)\n",
        "  layers.Dense(1, activation='sigmoid')\n",
        "])\n",
        "\n",
        "# Define how to execute training\n",
        "model3.compile(optimizer='rmsprop',\n",
        "              loss='binary_crossentropy',\n",
        "              metrics=['accuracy'])"
      ],
      "execution_count": null,
      "outputs": []
    },
    {
      "cell_type": "code",
      "metadata": {
        "id": "X5AZh6YDbWXp",
        "colab": {
          "base_uri": "https://localhost:8080/"
        },
        "outputId": "b0bb9fb1-366e-4b2c-cda9-f833bb5cb8cb"
      },
      "source": [
        "history3 = model3.fit(partial_x_train,\n",
        "                      partial_y_train,\n",
        "                      epochs=20,\n",
        "                      batch_size=512,\n",
        "                      validation_data=(x_val, y_val))"
      ],
      "execution_count": null,
      "outputs": [
        {
          "output_type": "stream",
          "text": [
            "Epoch 1/20\n",
            "30/30 [==============================] - 10s 296ms/step - loss: 0.7102 - accuracy: 0.6653 - val_loss: 0.3100 - val_accuracy: 0.8828\n",
            "Epoch 2/20\n",
            "30/30 [==============================] - 8s 268ms/step - loss: 0.2607 - accuracy: 0.9014 - val_loss: 0.3674 - val_accuracy: 0.8416\n",
            "Epoch 3/20\n",
            "30/30 [==============================] - 8s 269ms/step - loss: 0.1532 - accuracy: 0.9427 - val_loss: 0.3778 - val_accuracy: 0.8667\n",
            "Epoch 4/20\n",
            "30/30 [==============================] - 8s 268ms/step - loss: 0.0605 - accuracy: 0.9787 - val_loss: 0.3519 - val_accuracy: 0.8864\n",
            "Epoch 5/20\n",
            "30/30 [==============================] - 8s 269ms/step - loss: 0.0340 - accuracy: 0.9925 - val_loss: 0.3072 - val_accuracy: 0.8881\n",
            "Epoch 6/20\n",
            "30/30 [==============================] - 8s 268ms/step - loss: 0.0086 - accuracy: 0.9997 - val_loss: 0.4917 - val_accuracy: 0.8877\n",
            "Epoch 7/20\n",
            "30/30 [==============================] - 8s 271ms/step - loss: 7.0104e-04 - accuracy: 1.0000 - val_loss: 0.6115 - val_accuracy: 0.8872\n",
            "Epoch 8/20\n",
            "30/30 [==============================] - 8s 268ms/step - loss: 1.2279e-04 - accuracy: 1.0000 - val_loss: 0.7181 - val_accuracy: 0.8872\n",
            "Epoch 9/20\n",
            "30/30 [==============================] - 8s 268ms/step - loss: 2.2585e-05 - accuracy: 1.0000 - val_loss: 0.8130 - val_accuracy: 0.8871\n",
            "Epoch 10/20\n",
            "30/30 [==============================] - 8s 267ms/step - loss: 4.5461e-06 - accuracy: 1.0000 - val_loss: 0.9124 - val_accuracy: 0.8868\n",
            "Epoch 11/20\n",
            "30/30 [==============================] - 8s 268ms/step - loss: 1.2300e-06 - accuracy: 1.0000 - val_loss: 0.9924 - val_accuracy: 0.8860\n",
            "Epoch 12/20\n",
            "30/30 [==============================] - 8s 267ms/step - loss: 3.8540e-07 - accuracy: 1.0000 - val_loss: 1.0659 - val_accuracy: 0.8868\n",
            "Epoch 13/20\n",
            "30/30 [==============================] - 8s 266ms/step - loss: 1.2695e-07 - accuracy: 1.0000 - val_loss: 1.1326 - val_accuracy: 0.8865\n",
            "Epoch 14/20\n",
            "30/30 [==============================] - 8s 267ms/step - loss: 5.2926e-08 - accuracy: 1.0000 - val_loss: 1.1790 - val_accuracy: 0.8863\n",
            "Epoch 15/20\n",
            "30/30 [==============================] - 8s 268ms/step - loss: 2.9407e-08 - accuracy: 1.0000 - val_loss: 1.2094 - val_accuracy: 0.8857\n",
            "Epoch 16/20\n",
            "30/30 [==============================] - 8s 267ms/step - loss: 2.1932e-08 - accuracy: 1.0000 - val_loss: 1.2309 - val_accuracy: 0.8858\n",
            "Epoch 17/20\n",
            "30/30 [==============================] - 8s 268ms/step - loss: 1.5457e-08 - accuracy: 1.0000 - val_loss: 1.2479 - val_accuracy: 0.8867\n",
            "Epoch 18/20\n",
            "30/30 [==============================] - 8s 269ms/step - loss: 1.1416e-08 - accuracy: 1.0000 - val_loss: 1.2612 - val_accuracy: 0.8858\n",
            "Epoch 19/20\n",
            "30/30 [==============================] - 8s 269ms/step - loss: 9.7945e-09 - accuracy: 1.0000 - val_loss: 1.2716 - val_accuracy: 0.8856\n",
            "Epoch 20/20\n",
            "30/30 [==============================] - 8s 268ms/step - loss: 8.5676e-09 - accuracy: 1.0000 - val_loss: 1.2807 - val_accuracy: 0.8857\n"
          ],
          "name": "stdout"
        }
      ]
    },
    {
      "cell_type": "code",
      "metadata": {
        "id": "iU9-2DhZd-v2"
      },
      "source": [
        "train_acc3  = history3.history['accuracy']\n",
        "train_loss3 = history3.history['loss']\n",
        "val_acc3  = history3.history['val_accuracy']\n",
        "val_loss3 = history3.history['val_loss']\n",
        "\n",
        "epochs = range(1, len(train_acc3) + 1)"
      ],
      "execution_count": null,
      "outputs": []
    },
    {
      "cell_type": "code",
      "metadata": {
        "id": "sTcwS_fBd-0N",
        "colab": {
          "base_uri": "https://localhost:8080/",
          "height": 303
        },
        "outputId": "faeb99f2-5ee9-418b-979b-f6fc77b26b99"
      },
      "source": [
        "plt.plot(epochs, train_loss3, label = 'Training Loss')\n",
        "plt.plot(epochs, val_loss3, label = 'Validation Loss')\n",
        "plt.xlabel('Epochs')\n",
        "plt.ylabel('Loss')\n",
        "plt.legend()"
      ],
      "execution_count": null,
      "outputs": [
        {
          "output_type": "execute_result",
          "data": {
            "text/plain": [
              "<matplotlib.legend.Legend at 0x7f05182f8d50>"
            ]
          },
          "metadata": {
            "tags": []
          },
          "execution_count": 33
        },
        {
          "output_type": "display_data",
          "data": {
            "image/png": "[encoded data removed]",
            "text/plain": [
              "<Figure size 432x288 with 1 Axes>"
            ]
          },
          "metadata": {
            "tags": []
          }
        }
      ]
    },
    {
      "cell_type": "code",
      "metadata": {
        "id": "V1uOXdy63cpc",
        "colab": {
          "base_uri": "https://localhost:8080/",
          "height": 303
        },
        "outputId": "946bfd5f-55cd-4464-9b9a-a71f93f699fc"
      },
      "source": [
        "plt.plot(epochs, val_loss, label = 'Original model')\n",
        "plt.plot(epochs, val_loss3, label = 'More complex model')\n",
        "plt.xlabel('Epochs')\n",
        "plt.ylabel('Loss')\n",
        "plt.legend()"
      ],
      "execution_count": null,
      "outputs": [
        {
          "output_type": "execute_result",
          "data": {
            "text/plain": [
              "<matplotlib.legend.Legend at 0x7f0518285f50>"
            ]
          },
          "metadata": {
            "tags": []
          },
          "execution_count": 34
        },
        {
          "output_type": "display_data",
          "data": {
            "image/png": "[encoded data removed]",
            "text/plain": [
              "<Figure size 432x288 with 1 Axes>"
            ]
          },
          "metadata": {
            "tags": []
          }
        }
      ]
    },
    {
      "cell_type": "markdown",
      "metadata": {
        "id": "jYfOftc6ePL5"
      },
      "source": [
        "The original model performs better than the more complex model with many more hidden nodes.\n",
        "\n",
        "#### Weight regularization\n",
        "\n",
        "You may be familiar with Occam's Razor principle: given two explanations for something, the explanation most likely to be correct is the \"simplest\" one, the one that makes the least amount of assumptions. This also applies to the models learned by neural networks: given some training data and a network architecture, there are multiple sets of weights values (multiple models) that could explain the data, and simpler models are less likely to overfit than complex ones.\n",
        "\n",
        "A \"simple model\" in this context is a model where the distribution of parameter values has less entropy (or a model with fewer parameters altogether, as we saw in the section above). Thus a common way to mitigate overfitting is to put constraints on the complexity of a network by forcing its weights to only take small values, which makes the distribution of weight values more \"regular\". This is called \"weight regularization\", and it is done by adding to the loss function of the network a cost associated with having large weights. This cost comes in two flavors:\n",
        "\n",
        "* L1 regularization, where the cost added is proportional to the absolute value of the weights coefficients (i.e. to what is called the \"L1 norm\" of the weights).\n",
        "* L2 regularization, where the cost added is proportional to the square of the value of the weights coefficients (i.e. to what is called the \"L2 norm\" of the weights). L2 regularization is also called weight decay in the context of neural networks. Don't let the different name confuse you: weight decay is mathematically the exact same as L2 regularization.\n",
        "\n",
        "In Keras, weight regularization is added by passing weight regularizer instances to layers as keyword arguments. Let's add L2 weight regularization to our movie review classification network.\n",
        "\n",
        "`l2(0.001)` means that every coefficient in the weight matrix of the layer will add 0.001 * `weight_coefficient_value` to the total loss of the network. Note that because this penalty is only added at training time, the loss for this network will be much higher at training than at test time.\n"
      ]
    },
    {
      "cell_type": "code",
      "metadata": {
        "id": "LEKy34RId-5I"
      },
      "source": [
        "# L2 model\n",
        "l2_model = keras.Sequential([\n",
        "  # Layer 1 (Hidden layer)\n",
        "  layers.Dense(16, activation='relu',\n",
        "                   kernel_regularizer = keras.regularizers.l2(0.001)),\n",
        "  # Layer 2 (Hidden layer)\n",
        "  layers.Dense(16, activation='relu',\n",
        "                   kernel_regularizer = keras.regularizers.l2(0.001)),\n",
        "  # Layer 3 (Output layer)\n",
        "  layers.Dense(1, activation='sigmoid')\n",
        "])\n",
        "\n",
        "# Define how to execute training\n",
        "l2_model.compile(optimizer='rmsprop',\n",
        "                 loss='binary_crossentropy',\n",
        "                 metrics=['accuracy'])"
      ],
      "execution_count": null,
      "outputs": []
    },
    {
      "cell_type": "code",
      "metadata": {
        "id": "e30wFQNeeZpR",
        "colab": {
          "base_uri": "https://localhost:8080/"
        },
        "outputId": "273038ca-1561-4484-c59b-25f8852703c6"
      },
      "source": [
        "l2_model_hist = l2_model.fit(x_train, y_train,\n",
        "                             epochs=20,\n",
        "                             batch_size=512,\n",
        "                             validation_data=(x_test, y_test))"
      ],
      "execution_count": null,
      "outputs": [
        {
          "output_type": "stream",
          "text": [
            "Epoch 1/20\n",
            "49/49 [==============================] - 4s 71ms/step - loss: 0.6176 - accuracy: 0.7145 - val_loss: 0.3949 - val_accuracy: 0.8731\n",
            "Epoch 2/20\n",
            "49/49 [==============================] - 2s 45ms/step - loss: 0.3365 - accuracy: 0.8991 - val_loss: 0.3348 - val_accuracy: 0.8890\n",
            "Epoch 3/20\n",
            "49/49 [==============================] - 2s 45ms/step - loss: 0.2693 - accuracy: 0.9236 - val_loss: 0.3284 - val_accuracy: 0.8888\n",
            "Epoch 4/20\n",
            "49/49 [==============================] - 2s 46ms/step - loss: 0.2420 - accuracy: 0.9321 - val_loss: 0.3491 - val_accuracy: 0.8804\n",
            "Epoch 5/20\n",
            "49/49 [==============================] - 2s 46ms/step - loss: 0.2285 - accuracy: 0.9388 - val_loss: 0.3553 - val_accuracy: 0.8775\n",
            "Epoch 6/20\n",
            "49/49 [==============================] - 2s 49ms/step - loss: 0.2226 - accuracy: 0.9407 - val_loss: 0.3471 - val_accuracy: 0.8812\n",
            "Epoch 7/20\n",
            "49/49 [==============================] - 2s 48ms/step - loss: 0.2107 - accuracy: 0.9456 - val_loss: 0.3575 - val_accuracy: 0.8802\n",
            "Epoch 8/20\n",
            "49/49 [==============================] - 2s 51ms/step - loss: 0.2078 - accuracy: 0.9471 - val_loss: 0.3628 - val_accuracy: 0.8769\n",
            "Epoch 9/20\n",
            "49/49 [==============================] - 2s 48ms/step - loss: 0.2036 - accuracy: 0.9500 - val_loss: 0.3780 - val_accuracy: 0.8739\n",
            "Epoch 10/20\n",
            "49/49 [==============================] - 2s 51ms/step - loss: 0.1968 - accuracy: 0.9510 - val_loss: 0.3722 - val_accuracy: 0.8758\n",
            "Epoch 11/20\n",
            "49/49 [==============================] - 2s 50ms/step - loss: 0.1950 - accuracy: 0.9514 - val_loss: 0.3985 - val_accuracy: 0.8692\n",
            "Epoch 12/20\n",
            "49/49 [==============================] - 3s 55ms/step - loss: 0.1890 - accuracy: 0.9541 - val_loss: 0.4196 - val_accuracy: 0.8624\n",
            "Epoch 13/20\n",
            "49/49 [==============================] - 2s 51ms/step - loss: 0.1932 - accuracy: 0.9505 - val_loss: 0.3919 - val_accuracy: 0.8718\n",
            "Epoch 14/20\n",
            "49/49 [==============================] - 2s 51ms/step - loss: 0.1878 - accuracy: 0.9528 - val_loss: 0.3941 - val_accuracy: 0.8728\n",
            "Epoch 15/20\n",
            "49/49 [==============================] - 2s 46ms/step - loss: 0.1810 - accuracy: 0.9583 - val_loss: 0.3986 - val_accuracy: 0.8724\n",
            "Epoch 16/20\n",
            "49/49 [==============================] - 2s 47ms/step - loss: 0.1815 - accuracy: 0.9583 - val_loss: 0.4046 - val_accuracy: 0.8716\n",
            "Epoch 17/20\n",
            "49/49 [==============================] - 2s 47ms/step - loss: 0.1834 - accuracy: 0.9553 - val_loss: 0.4189 - val_accuracy: 0.8678\n",
            "Epoch 18/20\n",
            "49/49 [==============================] - 2s 45ms/step - loss: 0.1780 - accuracy: 0.9577 - val_loss: 0.4326 - val_accuracy: 0.8668\n",
            "Epoch 19/20\n",
            "49/49 [==============================] - 2s 50ms/step - loss: 0.1778 - accuracy: 0.9555 - val_loss: 0.4250 - val_accuracy: 0.8688\n",
            "Epoch 20/20\n",
            "49/49 [==============================] - 2s 48ms/step - loss: 0.1679 - accuracy: 0.9629 - val_loss: 0.4301 - val_accuracy: 0.8658\n"
          ],
          "name": "stdout"
        }
      ]
    },
    {
      "cell_type": "code",
      "metadata": {
        "id": "iXPMbdi9eZsQ"
      },
      "source": [
        "train_accl2  = l2_model_hist.history['accuracy']\n",
        "train_lossl2 = l2_model_hist.history['loss']\n",
        "val_accl2  = l2_model_hist.history['val_accuracy']\n",
        "val_lossl2 = l2_model_hist.history['val_loss']\n",
        "\n",
        "epochs = range(1, len(train_accl2) + 1)"
      ],
      "execution_count": null,
      "outputs": []
    },
    {
      "cell_type": "code",
      "metadata": {
        "id": "3oW8w_IQeZvR",
        "colab": {
          "base_uri": "https://localhost:8080/",
          "height": 303
        },
        "outputId": "abdc8092-79c2-47a8-eab9-5bf0fee0f148"
      },
      "source": [
        "plt.plot(epochs, val_loss, label = 'Original model')\n",
        "plt.plot(epochs, val_lossl2, label = 'L2 model')\n",
        "plt.xlabel('Epochs')\n",
        "plt.ylabel('Loss')\n",
        "plt.legend()"
      ],
      "execution_count": null,
      "outputs": [
        {
          "output_type": "execute_result",
          "data": {
            "text/plain": [
              "<matplotlib.legend.Legend at 0x7f0517ab6a90>"
            ]
          },
          "metadata": {
            "tags": []
          },
          "execution_count": 38
        },
        {
          "output_type": "display_data",
          "data": {
            "image/png": "[encoded data removed]",
            "text/plain": [
              "<Figure size 432x288 with 1 Axes>"
            ]
          },
          "metadata": {
            "tags": []
          }
        }
      ]
    },
    {
      "cell_type": "markdown",
      "metadata": {
        "id": "_L2zj6GQvPOZ"
      },
      "source": [
        "The model with L2 regularization (orange line) has become much more resistant to overfitting than the reference model (blue line), even though both models have the same number of parameters."
      ]
    },
    {
      "cell_type": "markdown",
      "metadata": {
        "id": "sbTg3fNFeZ_Q"
      },
      "source": [
        "#### Dropout\n",
        "Dropout is one of the most effective and most commonly used regularization techniques for neural networks, developed by Hinton and his students at the University of Toronto. Dropout, applied to a layer, consists of randomly \"dropping out\" (i.e. setting to zero) a number of output features of the layer during training. Let's say a given layer would normally have returned a vector [0.2, 0.5, 1.3, 0.8, 1.1] for a given input sample during training; after applying dropout, this vector will have a few zero entries distributed at random, e.g. [0, 0.5, 1.3, 0, 1.1]. The \"dropout rate\" is the fraction of the features that are being zeroed-out; it is usually set between 0.2 and 0.5. At test time, no units are dropped out, and instead the layer's output values are scaled down by a factor equal to the dropout rate, so as to balance for the fact that more units are active than at training time.\n",
        "\n",
        "This technique may seem strange and arbitrary. Why would this help reduce overfitting? Geoff Hinton has said that he was inspired, among other things, by a fraud prevention mechanism used by banks -- in his own words: \"I went to my bank. The tellers kept changing and I asked one of them why. He said he didn’t know but they got moved around a lot. I figured it must be because it would require cooperation between employees to successfully defraud the bank. This made me realize that randomly removing a different subset of neurons on each example would prevent conspiracies and thus reduce overfitting\".\n",
        "\n",
        "**The core idea is that introducing noise in the output values of a layer can break up happenstance patterns that are not significant** (what Hinton refers to as \"conspiracies\"), which the network would start memorizing if no noise was present.\n",
        "\n",
        "In Keras you can introduce dropout in a network via the Dropout layer, which gets applied to the output of layer right before it:\n"
      ]
    },
    {
      "cell_type": "code",
      "metadata": {
        "id": "60v22G5houfW"
      },
      "source": [
        "# Dropout model\n",
        "dmodel = keras.Sequential([\n",
        "  # Layer 1 (Hidden layer)\n",
        "  layers.Dense(16, activation='relu'),\n",
        "  # Dropout layer\n",
        "  layers.Dropout(0.5),\n",
        "  # Layer 2 (Hidden layer)\n",
        "  layers.Dense(16, activation='relu'),\n",
        "  # Dropout layer\n",
        "  layers.Dropout(0.5),\n",
        "  # Layer 3 (Output layer)\n",
        "  layers.Dense(1, activation='sigmoid')\n",
        "])\n",
        "\n",
        "# Define how to execute training\n",
        "dmodel.compile(optimizer='rmsprop',\n",
        "               loss='binary_crossentropy',\n",
        "               metrics=['accuracy'])"
      ],
      "execution_count": null,
      "outputs": []
    },
    {
      "cell_type": "code",
      "metadata": {
        "id": "akaY_Q4gouoR",
        "colab": {
          "base_uri": "https://localhost:8080/"
        },
        "outputId": "e7e324e2-86ff-4243-ddd6-e9d97d13a0be"
      },
      "source": [
        "d_model_hist = dmodel.fit(x_train, y_train,\n",
        "                             epochs=20,\n",
        "                             batch_size=512,\n",
        "                             validation_data=(x_test, y_test))"
      ],
      "execution_count": null,
      "outputs": [
        {
          "output_type": "stream",
          "text": [
            "Epoch 1/20\n",
            "49/49 [==============================] - 4s 64ms/step - loss: 0.6382 - accuracy: 0.6201 - val_loss: 0.4445 - val_accuracy: 0.8568\n",
            "Epoch 2/20\n",
            "49/49 [==============================] - 2s 46ms/step - loss: 0.4647 - accuracy: 0.7908 - val_loss: 0.3321 - val_accuracy: 0.8822\n",
            "Epoch 3/20\n",
            "49/49 [==============================] - 2s 46ms/step - loss: 0.3590 - accuracy: 0.8567 - val_loss: 0.2917 - val_accuracy: 0.8870\n",
            "Epoch 4/20\n",
            "49/49 [==============================] - 2s 48ms/step - loss: 0.3012 - accuracy: 0.8906 - val_loss: 0.2767 - val_accuracy: 0.8890\n",
            "Epoch 5/20\n",
            "49/49 [==============================] - 2s 45ms/step - loss: 0.2682 - accuracy: 0.9077 - val_loss: 0.2936 - val_accuracy: 0.8831\n",
            "Epoch 6/20\n",
            "49/49 [==============================] - 2s 48ms/step - loss: 0.2248 - accuracy: 0.9241 - val_loss: 0.2865 - val_accuracy: 0.8886\n",
            "Epoch 7/20\n",
            "49/49 [==============================] - 2s 48ms/step - loss: 0.2050 - accuracy: 0.9315 - val_loss: 0.3101 - val_accuracy: 0.8871\n",
            "Epoch 8/20\n",
            "49/49 [==============================] - 2s 47ms/step - loss: 0.1930 - accuracy: 0.9351 - val_loss: 0.3278 - val_accuracy: 0.8861\n",
            "Epoch 9/20\n",
            "49/49 [==============================] - 2s 46ms/step - loss: 0.1706 - accuracy: 0.9424 - val_loss: 0.3428 - val_accuracy: 0.8839\n",
            "Epoch 10/20\n",
            "49/49 [==============================] - 2s 45ms/step - loss: 0.1567 - accuracy: 0.9465 - val_loss: 0.3826 - val_accuracy: 0.8781\n",
            "Epoch 11/20\n",
            "49/49 [==============================] - 2s 49ms/step - loss: 0.1533 - accuracy: 0.9486 - val_loss: 0.3859 - val_accuracy: 0.8818\n",
            "Epoch 12/20\n",
            "49/49 [==============================] - 2s 50ms/step - loss: 0.1452 - accuracy: 0.9495 - val_loss: 0.4077 - val_accuracy: 0.8796\n",
            "Epoch 13/20\n",
            "49/49 [==============================] - 2s 48ms/step - loss: 0.1358 - accuracy: 0.9533 - val_loss: 0.4349 - val_accuracy: 0.8779\n",
            "Epoch 14/20\n",
            "49/49 [==============================] - 2s 50ms/step - loss: 0.1366 - accuracy: 0.9547 - val_loss: 0.4839 - val_accuracy: 0.8764\n",
            "Epoch 15/20\n",
            "49/49 [==============================] - 2s 44ms/step - loss: 0.1249 - accuracy: 0.9582 - val_loss: 0.4863 - val_accuracy: 0.8755\n",
            "Epoch 16/20\n",
            "49/49 [==============================] - 2s 45ms/step - loss: 0.1269 - accuracy: 0.9573 - val_loss: 0.5081 - val_accuracy: 0.8762\n",
            "Epoch 17/20\n",
            "49/49 [==============================] - 2s 47ms/step - loss: 0.1130 - accuracy: 0.9617 - val_loss: 0.5217 - val_accuracy: 0.8745\n",
            "Epoch 18/20\n",
            "49/49 [==============================] - 2s 46ms/step - loss: 0.1200 - accuracy: 0.9593 - val_loss: 0.5268 - val_accuracy: 0.8729\n",
            "Epoch 19/20\n",
            "49/49 [==============================] - 2s 46ms/step - loss: 0.1170 - accuracy: 0.9608 - val_loss: 0.5815 - val_accuracy: 0.8738\n",
            "Epoch 20/20\n",
            "49/49 [==============================] - 2s 45ms/step - loss: 0.1057 - accuracy: 0.9655 - val_loss: 0.5967 - val_accuracy: 0.8742\n"
          ],
          "name": "stdout"
        }
      ]
    },
    {
      "cell_type": "code",
      "metadata": {
        "id": "DtzoYnKAourC"
      },
      "source": [
        "train_accd  = d_model_hist.history['accuracy']\n",
        "train_lossd = d_model_hist.history['loss']\n",
        "val_accd  = d_model_hist.history['val_accuracy']\n",
        "val_lossd = d_model_hist.history['val_loss']\n",
        "\n",
        "epochs = range(1, len(train_accl2) + 1)"
      ],
      "execution_count": null,
      "outputs": []
    },
    {
      "cell_type": "code",
      "metadata": {
        "id": "FyWw8EDYoutf",
        "colab": {
          "base_uri": "https://localhost:8080/",
          "height": 303
        },
        "outputId": "c65f0cae-40ef-4406-9c6c-7337acb72b90"
      },
      "source": [
        "plt.plot(epochs, val_loss, label = 'Original model')\n",
        "plt.plot(epochs, val_lossd, label = 'Dropout model')\n",
        "plt.xlabel('Epochs')\n",
        "plt.ylabel('Loss')\n",
        "plt.legend()"
      ],
      "execution_count": null,
      "outputs": [
        {
          "output_type": "execute_result",
          "data": {
            "text/plain": [
              "<matplotlib.legend.Legend at 0x7f05178b7590>"
            ]
          },
          "metadata": {
            "tags": []
          },
          "execution_count": 42
        },
        {
          "output_type": "display_data",
          "data": {
            "image/png": "[encoded data removed]",
            "text/plain": [
              "<Figure size 432x288 with 1 Axes>"
            ]
          },
          "metadata": {
            "tags": []
          }
        }
      ]
    },
    {
      "cell_type": "markdown",
      "metadata": {
        "id": "7zljxKvawH5D"
      },
      "source": [
        "A slight improvement over the original network in terms of overfitting, but not as good as the L2 model.\n",
        "\n",
        "Summary: the most common ways to prevent overfitting in neural networks:\n",
        "\n",
        "1. Getting more training data.\n",
        "2. Reducing the capacity of the network.\n",
        "3. Adding weight regularization.\n",
        "4. Adding dropout."
      ]
    }
  ]
}