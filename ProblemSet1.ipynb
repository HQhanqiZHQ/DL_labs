{
  "nbformat": 4,
  "nbformat_minor": 0,
  "metadata": {
    "colab": {
      "provenance": [],
      "include_colab_link": true
    },
    "kernelspec": {
      "name": "python3",
      "display_name": "Python 3"
    }
  },
  "cells": [
    {
      "cell_type": "markdown",
      "metadata": {
        "id": "view-in-github",
        "colab_type": "text"
      },
      "source": [
        "<a href=\"https://colab.research.google.com/github/HQhanqiZHQ/DL_labs/blob/main/ProblemSet1.ipynb\" target=\"_parent\"><img src=\"https://colab.research.google.com/assets/colab-badge.svg\" alt=\"Open In Colab\"/></a>"
      ]
    },
    {
      "cell_type": "markdown",
      "metadata": {
        "id": "HhDo_JZP20DZ"
      },
      "source": [
        "# Problem Set 1\n",
        "### Due Wednesday, April 3rd by 11:59pm EST\n",
        "**Your Harvard ID**: 81631239\n",
        "\n",
        "Note: when completed, please download as an IPython Notebook file and upload to Canvas.\n",
        "\n",
        "### Question 1\n",
        "You will be performing one iteration of the forward pass and backpropagation calculations for a small network using Python. Here we will focus on the calculations for one training example, though in reality your data sets will be much larger and require matrix computation. You will also calculate the associated loss.\n",
        "\n",
        "Let $X_1 = 2$ and $X_2 = -1$ be the feature inputs and initialize the weights to be as shown in the figure below. This is a neural network with a single hidden layer consisting of three nodes. The blue numbers within each node represent the values for the bias terms and the black numbers along the edges represent the weights. The hidden layer outputs a single node, from which your task is binary classification. The label for this particular training example outcome is $y = 1$.\n",
        "\n"
      ]
    },
    {
      "cell_type": "markdown",
      "metadata": {
        "id": "gkhgwFtI3-6x"
      },
      "source": [
        "![network](https://drive.google.com/uc?id=1lfmGA56cIu81xD0y1SPKB7VuddS11G5o)\n"
      ]
    },
    {
      "cell_type": "markdown",
      "metadata": {
        "id": "KYD-V1epc8x4"
      },
      "source": [
        "Implement a single forward pass of the network. Assume the hidden layer uses a linear activation function (which is equivalent to assuming no activation function). You do not need to implement the network in keras and should instead use numpy operations (either scalar or matrix). Please use the variable names and print statements provided in the code chunks to display results for the TAs."
      ]
    },
    {
      "cell_type": "code",
      "metadata": {
        "id": "XDvRtn334Isx",
        "outputId": "dea3e4ca-099e-4e1c-9030-cbea8adc2bee",
        "colab": {
          "base_uri": "https://localhost:8080/"
        }
      },
      "source": [
        "# Your code here\n",
        "import numpy as np\n",
        "# Initialize the inputs and weights\n",
        "X = np.array([2, -1])\n",
        "W_hidden = np.array([[1, 1.1], [0.2, 0], [-0.6, -0.3]])\n",
        "b_hidden = np.array([-1.8, -0.4, 0.96])\n",
        "W_output = np.array([0.5, 0.1, 1.3])\n",
        "b_output = 2\n",
        "\n",
        "# Perform the forward pass\n",
        "hidden = np.dot(W_hidden, X) + b_hidden\n",
        "output = np.dot(W_output, hidden) + b_output\n",
        "y_hat = 1 / (1 + np.exp(-output))  # Sigmoid for binary classification\n",
        "prediction = 1 if y_hat >= 0.5 else 0\n",
        "\n",
        "print('The values for the hidden layer are:', hidden)\n",
        "print('The value for the output layer is:', output)\n",
        "print('The predicted probability is:', y_hat)\n",
        "print('The prediction is:', prediction)"
      ],
      "execution_count": 3,
      "outputs": [
        {
          "output_type": "stream",
          "name": "stdout",
          "text": [
            "The values for the hidden layer are: [-0.9   0.    0.06]\n",
            "The value for the output layer is: 1.6280000000000001\n",
            "The predicted probability is: 0.8358954745887476\n",
            "The prediction is: 1\n"
          ]
        }
      ]
    },
    {
      "cell_type": "markdown",
      "metadata": {
        "id": "PqcsmDCc3_Qm"
      },
      "source": [
        "Calculate the loss for the training example making sure to select the appropriate loss function."
      ]
    },
    {
      "cell_type": "code",
      "metadata": {
        "id": "6nJ15bV_2yrk",
        "outputId": "3084fa2d-600a-471f-fee8-f33d53ee5e81",
        "colab": {
          "base_uri": "https://localhost:8080/"
        }
      },
      "source": [
        "# Your code here\n",
        "# Given true label\n",
        "y_true = 1\n",
        "\n",
        "# Compute the loss using binary cross-entropy\n",
        "loss_i = - (y_true * np.log(y_hat) + (1 - y_true) * np.log(1 - y_hat))\n",
        "\n",
        "print('The loss is:',loss_i)"
      ],
      "execution_count": 4,
      "outputs": [
        {
          "output_type": "stream",
          "name": "stdout",
          "text": [
            "The loss is: 0.17925170411062194\n"
          ]
        }
      ]
    },
    {
      "cell_type": "markdown",
      "metadata": {
        "id": "1Z1mnvd6dPEC"
      },
      "source": [
        "Implement a single backward pass of the network. Again use numpy and report the values using the print statements provided. Please interpret these values. In other words, what are the values you just calculated used for?"
      ]
    },
    {
      "cell_type": "code",
      "metadata": {
        "id": "QxUbVHpQdSvP",
        "outputId": "e94955f4-f031-4a6c-f353-46026b112598",
        "colab": {
          "base_uri": "https://localhost:8080/"
        }
      },
      "source": [
        "# Your code here\n",
        "# Forward pass was already computed; we are reusing the hidden, output, and y_hat variables.\n",
        "# Let's assume these variables are populated with the results from the forward pass we calculated earlier.\n",
        "\n",
        "# Backward pass: Compute the gradient of the loss w.r.t. the network's parameters\n",
        "d_loss_output = y_hat - y_true  # Gradient of loss w.r.t. output of network (pre-activation)\n",
        "d_loss_hidden = W_output * d_loss_output  # Gradient of loss w.r.t. hidden layer output\n",
        "\n",
        "# Gradient of loss w.r.t. hidden layer weights and biases\n",
        "d_loss_W_hidden = np.outer(d_loss_hidden, X)  # d_loss_hidden reshaped for outer product with X\n",
        "d_loss_b_hidden = d_loss_hidden  # Gradient of loss w.r.t. hidden layer bias is the same as d_loss_hidden\n",
        "\n",
        "# Gradient of loss w.r.t. output layer weights and bias\n",
        "d_loss_W_output = hidden * d_loss_output  # Element-wise multiplication\n",
        "d_loss_b_output = d_loss_output  # Gradient of loss w.r.t. output layer bias\n",
        "\n",
        "dl_dw_h = d_loss_W_hidden\n",
        "dl_db_h = d_loss_b_hidden\n",
        "\n",
        "dl_dw_1 = d_loss_W_hidden[0]\n",
        "dl_dw_2 = d_loss_W_hidden[1]\n",
        "dl_dw_3 = d_loss_W_hidden[2]\n",
        "\n",
        "print('The gradients of the loss wrt to the hidden weights are:', dl_dw_h)\n",
        "print('The gradient of the loss wrt to the hidden bias is:', dl_db_h)\n",
        "print('The gradients of the loss wrt to the input weights going to hidden node 1 are:', dl_dw_1)\n",
        "print('The gradients of the loss wrt to the input weights going to hidden node 2 are:', dl_dw_2)\n",
        "print('The gradients of the loss wrt to the input weights going to hidden node 3 are:', dl_dw_3)"
      ],
      "execution_count": 5,
      "outputs": [
        {
          "output_type": "stream",
          "name": "stdout",
          "text": [
            "The gradients of the loss wrt to the hidden weights are: [[-0.16410453  0.08205226]\n",
            " [-0.03282091  0.01641045]\n",
            " [-0.42667177  0.21333588]]\n",
            "The gradient of the loss wrt to the hidden bias is: [-0.08205226 -0.01641045 -0.21333588]\n",
            "The gradients of the loss wrt to the input weights going to hidden node 1 are: [-0.16410453  0.08205226]\n",
            "The gradients of the loss wrt to the input weights going to hidden node 2 are: [-0.03282091  0.01641045]\n",
            "The gradients of the loss wrt to the input weights going to hidden node 3 are: [-0.42667177  0.21333588]\n"
          ]
        }
      ]
    },
    {
      "cell_type": "markdown",
      "metadata": {
        "id": "7yhq7yh2dddJ"
      },
      "source": [
        "### Question 2\n",
        "In class we were considering classification problems where the goal was to predict a single discrete label of an input data point. Another common type of machine learning problem is \"regression\", which consists of predicting a continuous value instead of a discrete label. For instance, predicting the temperature tomorrow, given meteorological data, or predicting the time that a software project will take to complete, given its specifications.\n",
        "\n",
        "You will be attempting to predict the median price of homes in a given Boston suburb in the mid-1970s, given a few data points about the suburb at the time, such as the crime rate, the local property tax rate, etc.\n",
        "\n",
        "The dataset you will be using has another interesting difference from our previous examples: it has very few data points, only 506 in total, split between 404 training samples and 102 test samples, and each \"feature\" in the input data (e.g. the crime rate is a feature) has a different scale. For instance, some values are proportions, which take a value between 0 and 1, others take values between 1 and 12, others between 0 and 100.\n",
        "\n",
        "The data consists 13 features. The 13 features in the input data are as follows:\n",
        "\n",
        "1. Per capita crime rate.\n",
        "2. Proportion of residential land zoned for lots over 25,000 square feet.\n",
        "3. Proportion of non-retail business acres per town.\n",
        "4. Charles River dummy variable (= 1 if tract bounds river; 0 otherwise).\n",
        "5. Nitric oxides concentration (parts per 10 million).\n",
        "6. Average number of rooms per dwelling.\n",
        "7. Proportion of owner-occupied units built prior to 1940.\n",
        "8. Weighted distances to five Boston employment centres.\n",
        "9. Index of accessibility to radial highways.\n",
        "10. Full-value property-tax rate per $10,000.\n",
        "11. Pupil-teacher ratio by town.\n",
        "12. 1000(Bk - 0.63)^2 where Bk is the proportion of Black people by town.\n",
        "13. % lower SES status of the population.\n",
        "\n",
        "The targets (outcomes, y) are the median values of owner-occupied homes, in thousands of dollars. The prices are typically between 10,000 and 50,000 dollars. If that sounds cheap, remember this was the mid-1970s, and these prices are not inflation-adjusted."
      ]
    },
    {
      "cell_type": "code",
      "metadata": {
        "id": "gvYAHFmJdguK"
      },
      "source": [
        "# Import needed packages\n",
        "import tensorflow as tf\n",
        "import numpy as np\n",
        "from tensorflow import keras\n",
        "import pandas as pd\n",
        "from tensorflow.keras.datasets import reuters\n",
        "from keras.utils import to_categorical\n",
        "from tensorflow.keras import layers\n",
        "import matplotlib.pyplot as plt\n",
        "%matplotlib inline"
      ],
      "execution_count": 6,
      "outputs": []
    },
    {
      "cell_type": "code",
      "metadata": {
        "id": "fGIw3FrDdkvU",
        "colab": {
          "base_uri": "https://localhost:8080/"
        },
        "outputId": "440a713f-1098-4d10-bbd5-1ad3cad6514d"
      },
      "source": [
        "# Load the data\n",
        "from keras.datasets import boston_housing\n",
        "\n",
        "(train_data, train_targets), (test_data, test_targets) =  boston_housing.load_data()"
      ],
      "execution_count": 7,
      "outputs": [
        {
          "output_type": "stream",
          "name": "stdout",
          "text": [
            "Downloading data from https://storage.googleapis.com/tensorflow/tf-keras-datasets/boston_housing.npz\n",
            "57026/57026 [==============================] - 0s 0us/step\n"
          ]
        }
      ]
    },
    {
      "cell_type": "markdown",
      "metadata": {
        "id": "rMSqxOTMdssk"
      },
      "source": [
        "Print the dimensions of the training set, i.e. its shape"
      ]
    },
    {
      "cell_type": "code",
      "metadata": {
        "id": "DhGIEEbhdqYN"
      },
      "source": [
        "# Your code here"
      ],
      "execution_count": null,
      "outputs": []
    },
    {
      "cell_type": "markdown",
      "metadata": {
        "id": "H0NyaW24dzaA"
      },
      "source": [
        "Print the dimensions of the test set, i.e. its shape"
      ]
    },
    {
      "cell_type": "code",
      "metadata": {
        "id": "cn0dcQmzdz2I"
      },
      "source": [
        "# Your code here"
      ],
      "execution_count": null,
      "outputs": []
    },
    {
      "cell_type": "markdown",
      "metadata": {
        "id": "sE0BC6OAd1Im"
      },
      "source": [
        "It would be problematic to feed into a neural network values that all take wildly different ranges. The network might be able to automatically adapt to such heterogeneous data, but it would definitely make learning more difficult. A widespread best practice to deal with such data is to do feature-wise normalization: for each feature in the input data (a column in the input data matrix), we will subtract the mean of the feature and divide by the standard deviation, so that the feature will be centered around 0 and will have a unit standard deviation.\n",
        "\n",
        "Normalize the data. Be sure to normalize the test set with the training set mean and standard deviation."
      ]
    },
    {
      "cell_type": "code",
      "metadata": {
        "id": "LaLYdnb6d45w"
      },
      "source": [
        "# Your code here"
      ],
      "execution_count": null,
      "outputs": []
    },
    {
      "cell_type": "markdown",
      "metadata": {
        "id": "bmVCNvzJd93b"
      },
      "source": [
        "Fit a fully connected neural network with 2 hidden layers and an output layer. Include 64 hidden units in each hidden layer and an appropriate number of units in the output layer. You are free to choose the activation functions. Use the `rmsprop` optimization function, and choose an appropriate loss function and model performance measure. Referring to the table shown in lectures 2 and 3 may help with these choices. Run the network for 50 epochs and use a batch size of 10."
      ]
    },
    {
      "cell_type": "code",
      "metadata": {
        "id": "f737O4fVd-cf"
      },
      "source": [
        "# Your code here"
      ],
      "execution_count": null,
      "outputs": []
    },
    {
      "cell_type": "markdown",
      "metadata": {
        "id": "C4vCuvMgeEt-"
      },
      "source": [
        "Report the test set accuracy (as in, a measure of how good your predictions are) and compare it to the training set accuracy. **Interpret what this means in words, in terms of what you are trying to do with your network**."
      ]
    },
    {
      "cell_type": "code",
      "metadata": {
        "id": "l6L5KOegeFSA"
      },
      "source": [
        "# Your code here"
      ],
      "execution_count": null,
      "outputs": []
    },
    {
      "cell_type": "markdown",
      "metadata": {
        "id": "mAsjzPnmeFYW"
      },
      "source": [
        "Answer:"
      ]
    },
    {
      "cell_type": "markdown",
      "metadata": {
        "id": "WiurzMl4eK_1"
      },
      "source": [
        "Now fit the same network as above but with 16 hidden nodes in each hidden layer. **What is the test set accuracy and how does it compare to the first network you created? Which model do you think is better?**"
      ]
    },
    {
      "cell_type": "code",
      "metadata": {
        "id": "-jt993H3eLb9"
      },
      "source": [
        "# Your code here"
      ],
      "execution_count": null,
      "outputs": []
    },
    {
      "cell_type": "markdown",
      "metadata": {
        "id": "xvogMSN_eNPF"
      },
      "source": [
        "Answer:"
      ]
    }
  ]
}