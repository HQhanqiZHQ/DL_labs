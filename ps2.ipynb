{
  "nbformat": 4,
  "nbformat_minor": 0,
  "metadata": {
    "colab": {
      "provenance": [],
      "include_colab_link": true
    },
    "kernelspec": {
      "name": "python3",
      "display_name": "Python 3"
    }
  },
  "cells": [
    {
      "cell_type": "markdown",
      "metadata": {
        "id": "view-in-github",
        "colab_type": "text"
      },
      "source": [
        "<a href=\"https://colab.research.google.com/github/HQhanqiZHQ/DL_labs/blob/main/ps2.ipynb\" target=\"_parent\"><img src=\"https://colab.research.google.com/assets/colab-badge.svg\" alt=\"Open In Colab\"/></a>"
      ]
    },
    {
      "cell_type": "markdown",
      "metadata": {
        "id": "1C4NtTmdbFTG"
      },
      "source": [
        "# Homework #2: Convolutional Neural Networks\n",
        "Due date is on Canvas.\n",
        "# You are required to upload a pdf of this notebook along with the ipynb file.\n",
        "## Harvard ID: 81631239"
      ]
    },
    {
      "cell_type": "markdown",
      "metadata": {
        "id": "4ws6gRwkbGra"
      },
      "source": [
        "## Question 1\n",
        "(a) You have an input volume that is 15x15x8 and pad it using *p = 2*. What is the dimension of the resulting volume?\n",
        "\n",
        "\n",
        "The new width is 15+22=19. The new height is 15+22=19. Depth remains the same. So, the dimension of the resulting volume is 19x19x8."
      ]
    },
    {
      "cell_type": "markdown",
      "metadata": {
        "id": "3hNHcFZabKrm"
      },
      "source": [
        "(b) You have an input volume that is 32x32x16 and apply max pooling with a stride of 2 and a filter of size of 2x2. What is the output volume?\n",
        "\n",
        "(32-2)/2+1=16 The output volume is 16x16x16"
      ]
    },
    {
      "cell_type": "markdown",
      "metadata": {
        "id": "ocMkI2zUbK0H"
      },
      "source": [
        "(c) You have an input volume that is 63x63x16 and convolve it with 32 filters that are each 7x7, and a stride of 1. You want to use a \"same\" convolution. What is the padding *p*?\n",
        "\n",
        "63 = (63+2p-7)/1+1 so, p= (7-1)/2=3"
      ]
    },
    {
      "cell_type": "markdown",
      "metadata": {
        "id": "uPp2WoOnbK9R"
      },
      "source": [
        "(d) You have an input volume that is 63x63x16 and convolve it with 32 filters that are each 7x7, using a stride of 2 and no padding. What is the output volume?\n",
        "\n",
        "(63-7)/2+1=29 so, the new width is 29, and the new height is 29. The depth becomes the number of filter used. So, the output volume is 29x29x32."
      ]
    },
    {
      "cell_type": "markdown",
      "metadata": {
        "id": "NAPjxJ20bTzJ"
      },
      "source": [
        "## Question 2: Classification of Chest X-rays\n",
        "Chest X-ray exams are one of the most frequent and cost-effective medical imaging examinations available. However, clinical diagnosis of a chest X-ray can be challenging and sometimes more difficult than diagnosis via chest CT imaging. The lack of large publicly available datasets with annotations means it is still very difficult, if not impossible, to achieve clinically relevant computer-aided detection and diagnosis (CAD) in real world medical sites with chest X-rays. One major hurdle in creating large X-ray image datasets is the lack resources for labeling so many images. Prior to the release of this dataset, Openi was the largest publicly available source of chest X-ray images with 4,143 images available.\n",
        "\n",
        "This [NIH Chest X-ray Dataset](https://www.kaggle.com/nih-chest-xrays/data) is comprised of 112,120 X-ray images with disease labels from 30,805 unique patients. To create these labels, the authors used Natural Language Processing to text-mine disease classifications from the associated radiological reports. The labels are expected to be >90% accurate and suitable for weakly-supervised learning. The original radiology reports are not publicly available but you can find more details on the labeling process in this Open Access paper: \"ChestX-ray8: Hospital-scale Chest X-ray Database and Benchmarks on Weakly-Supervised Classification and Localization of Common Thorax Diseases.\" (Wang et al.)\n",
        "\n",
        "Here we will use a subset of the data, rather than all 112,120 images. The images have been split into training, validation and test sets, each with folders containing the images for a particular diagnosis (class). The full data set contains images with single labels and multi-lables, with a total of 15 unique diagnoses. Our subsample contains only single label images with a total of 7 diagnoses: atelectasis, effusion, infiltration, mass, nodule, none (no finding), and pneumothorax. Your task is to classify the images correctly by building multiple CNNs and comparing their performance.\n",
        "\n",
        "Here are what a few of the X-rays look like:\n",
        "\n",
        "![xrays](https://drive.google.com/uc?id=1m42zYcI1YWDn9TuBlA5vukN7rqaILuXF)\n",
        "\n",
        "### Load the data\n",
        "\n",
        "The data are available in Google Drive [here](https://drive.google.com/open?id=1Q9DGe2-WcN1T5ToDLr4AMk-UAFedb309) or in Dropbox [here](https://www.dropbox.com/sh/6rstxss79669361/AABXuOWEA75MtWWTVeER4UeKa?dl=0). **Please note that if you are accessing the Google Drive folder that there are 2 xray datasets: `xrays` and `xrays-small`. You will use the `xrays` dataset for this assignment.**\n",
        "\n",
        "Load the data and print the number of training, validation and test set examples there are of each class. Be sure to change the directory path provided below to your own data path."
      ]
    },
    {
      "cell_type": "code",
      "metadata": {
        "id": "M6hEcRu2bAxM"
      },
      "source": [
        "import numpy as np\n",
        "from sklearn.decomposition import PCA\n",
        "import matplotlib\n",
        "import matplotlib.pyplot as plt\n",
        "import tensorflow as tf\n",
        "import keras\n",
        "from tensorflow.keras import backend as K\n",
        "from tensorflow.keras import datasets, layers, models\n",
        "import os, shutil"
      ],
      "execution_count": 4,
      "outputs": []
    },
    {
      "cell_type": "code",
      "metadata": {
        "id": "X9Wv3n-Ebahd",
        "colab": {
          "base_uri": "https://localhost:8080/"
        },
        "outputId": "6173b838-c3a0-4ba9-e8f0-acb21bce1628"
      },
      "source": [
        "from google.colab import drive\n",
        "drive.mount('/content/drive')"
      ],
      "execution_count": 5,
      "outputs": [
        {
          "output_type": "stream",
          "name": "stdout",
          "text": [
            "Mounted at /content/drive\n"
          ]
        }
      ]
    },
    {
      "cell_type": "code",
      "metadata": {
        "id": "Yzgw5B6Lbc6Z"
      },
      "source": [
        "# Define directories of where the training, validation and test sets reside\n",
        "# Heather's:\n",
        "base_dir = 'drive/My Drive/BST261/xrays/'\n",
        "# This is the path to where my files are - your path will be different, something like this:\n",
        "# base_dir = 'drive/My Drive/Data/xrays/'"
      ],
      "execution_count": 6,
      "outputs": []
    },
    {
      "cell_type": "code",
      "metadata": {
        "id": "YofY1uEobdH-"
      },
      "source": [
        "train_dir = os.path.join(base_dir, 'train_dir')\n",
        "validation_dir = os.path.join(base_dir, 'validation_dir')\n",
        "test_dir = os.path.join(base_dir, 'test_dir')\n",
        "\n",
        "# Training Data\n",
        "train_atelectasis  = os.path.join(train_dir, 'atelectasis')\n",
        "train_effusion     = os.path.join(train_dir, 'effusion')\n",
        "train_infiltration = os.path.join(train_dir, 'infiltration')\n",
        "train_mass         = os.path.join(train_dir, 'mass')\n",
        "train_nodule       = os.path.join(train_dir, 'nodule')\n",
        "train_none         = os.path.join(train_dir, 'none')\n",
        "train_pneumothorax = os.path.join(train_dir, 'pneumothorax')\n",
        "\n",
        "# Validation Data\n",
        "val_atelectasis  = os.path.join(validation_dir, 'atelectasis')\n",
        "val_effusion     = os.path.join(validation_dir, 'effusion')\n",
        "val_infiltration = os.path.join(validation_dir, 'infiltration')\n",
        "val_mass         = os.path.join(validation_dir, 'mass')\n",
        "val_nodule       = os.path.join(validation_dir, 'nodule')\n",
        "val_none         = os.path.join(validation_dir, 'none')\n",
        "val_pneumothorax = os.path.join(validation_dir, 'pneumothorax')\n",
        "\n",
        "# Test Data\n",
        "test_atelectasis  = os.path.join(test_dir, 'atelectasis')\n",
        "test_effusion     = os.path.join(test_dir, 'effusion')\n",
        "test_infiltration = os.path.join(test_dir, 'infiltration')\n",
        "test_mass         = os.path.join(test_dir, 'mass')\n",
        "test_nodule       = os.path.join(test_dir, 'nodule')\n",
        "test_none         = os.path.join(test_dir, 'none')\n",
        "test_pneumothorax = os.path.join(test_dir, 'pneumothorax')"
      ],
      "execution_count": 7,
      "outputs": []
    },
    {
      "cell_type": "markdown",
      "metadata": {
        "id": "AOZTZaUPblSc"
      },
      "source": [
        "Use the code below to check how many images are available for each class for the 3 sets (training, validation and testing) of images."
      ]
    },
    {
      "cell_type": "code",
      "metadata": {
        "id": "OU87T7jxblpK",
        "colab": {
          "base_uri": "https://localhost:8080/"
        },
        "outputId": "415b3826-d7b3-4389-9c56-6a33b74147b7"
      },
      "source": [
        "print('Total training atelectasisat images:', len(os.listdir(train_atelectasis)))\n",
        "print('Total training effusion images:', len(os.listdir(train_effusion)))\n",
        "print('Total training infiltration images:', len(os.listdir(train_infiltration)))\n",
        "print('Total training mass images:', len(os.listdir(train_mass)))\n",
        "print('Total training nodule images:', len(os.listdir(train_nodule)))\n",
        "print('Total training no finding images:', len(os.listdir(train_none)))\n",
        "print('Total training pneumothorax images:', len(os.listdir(train_pneumothorax)))"
      ],
      "execution_count": 9,
      "outputs": [
        {
          "output_type": "stream",
          "name": "stdout",
          "text": [
            "Total training atelectasisat images: 400\n",
            "Total training effusion images: 400\n",
            "Total training infiltration images: 400\n",
            "Total training mass images: 200\n",
            "Total training nodule images: 300\n",
            "Total training no finding images: 400\n",
            "Total training pneumothorax images: 300\n"
          ]
        }
      ]
    },
    {
      "cell_type": "code",
      "metadata": {
        "id": "gXxKsTapblvu",
        "colab": {
          "base_uri": "https://localhost:8080/"
        },
        "outputId": "ae1b9dd3-6574-4e48-c028-1c07540d7ec9"
      },
      "source": [
        "print('Total validation atelectasisat images:', len(os.listdir(val_atelectasis)))\n",
        "print('Total validation effusion images:', len(os.listdir(val_effusion)))\n",
        "print('Total validation infiltration images:', len(os.listdir(val_infiltration)))\n",
        "print('Total validation mass images:', len(os.listdir(val_mass)))\n",
        "print('Total validation nodule images:', len(os.listdir(val_nodule)))\n",
        "print('Total validation no finding images:', len(os.listdir(val_none)))\n",
        "print('Total validation pneumothorax images:', len(os.listdir(val_pneumothorax)))"
      ],
      "execution_count": 10,
      "outputs": [
        {
          "output_type": "stream",
          "name": "stdout",
          "text": [
            "Total validation atelectasisat images: 100\n",
            "Total validation effusion images: 100\n",
            "Total validation infiltration images: 100\n",
            "Total validation mass images: 55\n",
            "Total validation nodule images: 70\n",
            "Total validation no finding images: 100\n",
            "Total validation pneumothorax images: 70\n"
          ]
        }
      ]
    },
    {
      "cell_type": "code",
      "metadata": {
        "id": "fyqIOWNkbl2O",
        "colab": {
          "base_uri": "https://localhost:8080/"
        },
        "outputId": "6663cd1c-389c-449b-8413-6ae26f177be9"
      },
      "source": [
        "print('Total test atelectasisat images:', len(os.listdir(test_atelectasis)))\n",
        "print('Total test effusion images:', len(os.listdir(test_effusion)))\n",
        "print('Total test infiltration images:', len(os.listdir(test_infiltration)))\n",
        "print('Total test mass images:', len(os.listdir(test_mass)))\n",
        "print('Total test nodule images:', len(os.listdir(test_nodule)))\n",
        "print('Total test no finding images:', len(os.listdir(test_none)))\n",
        "print('Total test pneumothorax images:', len(os.listdir(test_pneumothorax)))"
      ],
      "execution_count": 11,
      "outputs": [
        {
          "output_type": "stream",
          "name": "stdout",
          "text": [
            "Total test atelectasisat images: 100\n",
            "Total test effusion images: 100\n",
            "Total test infiltration images: 100\n",
            "Total test mass images: 55\n",
            "Total test nodule images: 70\n",
            "Total test no finding images: 100\n",
            "Total test pneumothorax images: 70\n"
          ]
        }
      ]
    },
    {
      "cell_type": "markdown",
      "metadata": {
        "id": "gMqSRRYTbuGc"
      },
      "source": [
        "### A. Build a CNN from scratch\n",
        "Build a shallow (2-4 convolution layers) CNN. You are free to choose any values you wish for the filter size(s), pooling window size(s), and activation function(s). Please use an input shape of 64 x 64 and note that while these images look like greyscale images, they are in fact color images. Include a dense layer on top along with an appropriate output layer (number of neurons and activation function). Be sure to also include the `model.compile` function with an appropriate choice of loss function and performance metric."
      ]
    },
    {
      "cell_type": "code",
      "metadata": {
        "id": "GpeND796bucX"
      },
      "source": [
        "# Your code here\n",
        "# Define the model\n",
        "model = models.Sequential()\n",
        "\n",
        "# Convolutional layers\n",
        "# First convolution layer with 32 filters, a kernel size of 3, using ReLU\n",
        "model.add(layers.Conv2D(32, (3, 3), activation='relu', input_shape=(64, 64, 3)))\n",
        "model.add(layers.MaxPooling2D((2, 2)))\n",
        "# Second convolution layer with 64 filteres, a kernal size of 3, using ReLU\n",
        "model.add(layers.Conv2D(64, (3, 3), activation='relu'))\n",
        "model.add(layers.MaxPooling2D((2, 2)))\n",
        "\n",
        "# Flatten the output from convolutional layers to fully connected layers\n",
        "model.add(layers.Flatten())\n",
        "\n",
        "# A dense layer\n",
        "# model.add(layers.Dropout(0.5))\n",
        "model.add(layers.Dense(64, activation='relu'))\n",
        "\n",
        "# Output layer for 7 classes, softmax for multi-class classification\n",
        "model.add(layers.Dense(7, activation='softmax'))\n",
        "\n",
        "# Compile the model\n",
        "model.compile(optimizer='adam',\n",
        "              loss='categorical_crossentropy',  # Since it's a multi-class classification problem\n",
        "              metrics=['accuracy'])"
      ],
      "execution_count": 12,
      "outputs": []
    },
    {
      "cell_type": "markdown",
      "metadata": {
        "id": "vllkl4T6b0na"
      },
      "source": [
        "#### Define the image generator\n",
        "Using the `ImageDataGenerator` function, create `train_datagen` and `test_datagen` generators that rescale the images appropriately. Then define a training set generator and validation set generator using the generators `train_datagen` and `test_datagen` and the `.flow_from_directory` function. Specify the `target_size` (it should match the input size above), set the `batch_size` to 20 and choose an appropriate `class_mode`."
      ]
    },
    {
      "cell_type": "code",
      "metadata": {
        "id": "CgIlz05bb1IR",
        "colab": {
          "base_uri": "https://localhost:8080/"
        },
        "outputId": "dd09be06-19c5-4cc5-a4e3-0ea5bf6921b5"
      },
      "source": [
        "# Your code here\n",
        "from keras.preprocessing.image import ImageDataGenerator\n",
        "\n",
        "# Rescale images\n",
        "train_datagen = ImageDataGenerator(rescale=1./255)\n",
        "test_datagen = ImageDataGenerator(rescale=1./255)\n",
        "\n",
        "# Define batch size\n",
        "batch_size = 20\n",
        "# Define target size to match the input size\n",
        "target_size = (64, 64)\n",
        "# Define class mode for multi-class classification\n",
        "class_mode = 'categorical'\n",
        "\n",
        "# Training set generator\n",
        "train_generator = train_datagen.flow_from_directory(\n",
        "    train_dir,\n",
        "    target_size=target_size,\n",
        "    batch_size=batch_size,\n",
        "    class_mode=class_mode)\n",
        "# Validation set generator\n",
        "test_generator = test_datagen.flow_from_directory(\n",
        "    test_dir,\n",
        "    target_size=target_size,\n",
        "    batch_size=batch_size,\n",
        "    class_mode=class_mode)"
      ],
      "execution_count": 13,
      "outputs": [
        {
          "output_type": "stream",
          "name": "stdout",
          "text": [
            "Found 2400 images belonging to 7 classes.\n",
            "Found 595 images belonging to 7 classes.\n"
          ]
        }
      ]
    },
    {
      "cell_type": "markdown",
      "metadata": {
        "id": "pZ7tCXLwb6cV"
      },
      "source": [
        "Use this code chunck to view the shapes of one batch of your training images and labels."
      ]
    },
    {
      "cell_type": "code",
      "metadata": {
        "id": "tqglg6-Pb6lI",
        "colab": {
          "base_uri": "https://localhost:8080/"
        },
        "outputId": "dec42b49-7be9-41d0-9734-4ed4f44e88d1"
      },
      "source": [
        "for data_batch, labels_batch in train_generator:\n",
        "    print('data batch shape:', data_batch.shape)\n",
        "    print('labels batch shape:', labels_batch.shape)\n",
        "    break"
      ],
      "execution_count": 14,
      "outputs": [
        {
          "output_type": "stream",
          "name": "stdout",
          "text": [
            "data batch shape: (20, 64, 64, 3)\n",
            "labels batch shape: (20, 7)\n"
          ]
        }
      ]
    },
    {
      "cell_type": "markdown",
      "metadata": {
        "id": "s82-zKuxb-wV"
      },
      "source": [
        "#### Compile your model\n",
        "Be sure to choose appropriate numbers for the `steps_per_epoch` and `validation_steps` parameters. If one of the numbers is not a multiple of the batch size, round up to the nearest integer. Run this model for 30 epochs.\n",
        "\n",
        "**Note: the first epoch will take about 15-20 minutes to run. The rest of the epochs will only take about a minute each to run.**"
      ]
    },
    {
      "cell_type": "code",
      "metadata": {
        "id": "zF6sycaob-6z",
        "colab": {
          "base_uri": "https://localhost:8080/"
        },
        "outputId": "83921146-5680-4201-f4b0-cb8b7892cf34"
      },
      "source": [
        "# Your code here\n",
        "# Define steps_per_epoch and validation_steps\n",
        "# Batch_size round up to the nearest integer\n",
        "steps_per_epoch = train_generator.samples // batch_size\n",
        "validation_steps = test_generator.samples // batch_size\n",
        "if train_generator.samples % batch_size != 0:\n",
        "    steps_per_epoch += 1\n",
        "if test_generator.samples % batch_size != 0:\n",
        "    validation_steps += 1\n",
        "\n",
        "tf.random.set_seed(42)\n",
        "# Compile the model\n",
        "model.compile(optimizer='adam',\n",
        "              loss='categorical_crossentropy',\n",
        "              metrics=['accuracy'])\n",
        "\n",
        "# Train the model\n",
        "history = model.fit(\n",
        "    train_generator,\n",
        "    steps_per_epoch=steps_per_epoch,\n",
        "    epochs=30,\n",
        "    validation_data=test_generator,\n",
        "    validation_steps=validation_steps)"
      ],
      "execution_count": 19,
      "outputs": [
        {
          "output_type": "stream",
          "name": "stdout",
          "text": [
            "Epoch 1/30\n",
            "120/120 [==============================] - 598s 5s/step - loss: 1.9155 - accuracy: 0.2092 - val_loss: 1.9294 - val_accuracy: 0.2437\n",
            "Epoch 2/30\n",
            "120/120 [==============================] - 84s 697ms/step - loss: 1.7877 - accuracy: 0.2971 - val_loss: 1.9471 - val_accuracy: 0.2538\n",
            "Epoch 3/30\n",
            "120/120 [==============================] - 88s 733ms/step - loss: 1.7233 - accuracy: 0.3358 - val_loss: 1.9347 - val_accuracy: 0.2420\n",
            "Epoch 4/30\n",
            "120/120 [==============================] - 82s 688ms/step - loss: 1.6334 - accuracy: 0.3829 - val_loss: 1.9568 - val_accuracy: 0.2336\n",
            "Epoch 5/30\n",
            "120/120 [==============================] - 75s 624ms/step - loss: 1.5623 - accuracy: 0.4017 - val_loss: 2.0166 - val_accuracy: 0.2521\n",
            "Epoch 6/30\n",
            "120/120 [==============================] - 85s 709ms/step - loss: 1.4711 - accuracy: 0.4500 - val_loss: 2.0318 - val_accuracy: 0.2471\n",
            "Epoch 7/30\n",
            "120/120 [==============================] - 82s 681ms/step - loss: 1.3686 - accuracy: 0.4967 - val_loss: 2.1373 - val_accuracy: 0.2269\n",
            "Epoch 8/30\n",
            "120/120 [==============================] - 82s 688ms/step - loss: 1.2185 - accuracy: 0.5575 - val_loss: 2.1665 - val_accuracy: 0.2504\n",
            "Epoch 9/30\n",
            "120/120 [==============================] - 93s 770ms/step - loss: 1.0808 - accuracy: 0.5996 - val_loss: 2.3712 - val_accuracy: 0.2555\n",
            "Epoch 10/30\n",
            "120/120 [==============================] - 89s 743ms/step - loss: 0.8977 - accuracy: 0.6858 - val_loss: 2.7196 - val_accuracy: 0.2336\n",
            "Epoch 11/30\n",
            "120/120 [==============================] - 85s 707ms/step - loss: 0.7480 - accuracy: 0.7446 - val_loss: 2.8227 - val_accuracy: 0.2336\n",
            "Epoch 12/30\n",
            "120/120 [==============================] - 78s 655ms/step - loss: 0.6152 - accuracy: 0.7867 - val_loss: 3.2670 - val_accuracy: 0.2387\n",
            "Epoch 13/30\n",
            "120/120 [==============================] - 83s 697ms/step - loss: 0.4551 - accuracy: 0.8525 - val_loss: 3.5029 - val_accuracy: 0.2336\n",
            "Epoch 14/30\n",
            "120/120 [==============================] - 84s 705ms/step - loss: 0.3478 - accuracy: 0.8896 - val_loss: 3.8577 - val_accuracy: 0.2403\n",
            "Epoch 15/30\n",
            "120/120 [==============================] - 84s 703ms/step - loss: 0.2555 - accuracy: 0.9267 - val_loss: 4.2092 - val_accuracy: 0.2235\n",
            "Epoch 16/30\n",
            "120/120 [==============================] - 85s 711ms/step - loss: 0.1740 - accuracy: 0.9558 - val_loss: 4.5201 - val_accuracy: 0.2303\n",
            "Epoch 17/30\n",
            "120/120 [==============================] - 83s 695ms/step - loss: 0.1269 - accuracy: 0.9700 - val_loss: 4.9381 - val_accuracy: 0.2269\n",
            "Epoch 18/30\n",
            "120/120 [==============================] - 83s 695ms/step - loss: 0.0947 - accuracy: 0.9800 - val_loss: 5.3557 - val_accuracy: 0.2319\n",
            "Epoch 19/30\n",
            "120/120 [==============================] - 78s 650ms/step - loss: 0.0620 - accuracy: 0.9904 - val_loss: 5.9121 - val_accuracy: 0.2218\n",
            "Epoch 20/30\n",
            "120/120 [==============================] - 94s 772ms/step - loss: 0.0481 - accuracy: 0.9933 - val_loss: 6.0814 - val_accuracy: 0.2286\n",
            "Epoch 21/30\n",
            "120/120 [==============================] - 86s 716ms/step - loss: 0.0306 - accuracy: 0.9962 - val_loss: 6.6043 - val_accuracy: 0.2269\n",
            "Epoch 22/30\n",
            "120/120 [==============================] - 85s 709ms/step - loss: 0.0174 - accuracy: 0.9992 - val_loss: 6.8023 - val_accuracy: 0.2286\n",
            "Epoch 23/30\n",
            "120/120 [==============================] - 85s 703ms/step - loss: 0.0121 - accuracy: 0.9992 - val_loss: 7.1754 - val_accuracy: 0.2269\n",
            "Epoch 24/30\n",
            "120/120 [==============================] - 93s 775ms/step - loss: 0.0091 - accuracy: 0.9996 - val_loss: 7.4517 - val_accuracy: 0.2353\n",
            "Epoch 25/30\n",
            "120/120 [==============================] - 95s 792ms/step - loss: 0.0071 - accuracy: 0.9996 - val_loss: 7.5268 - val_accuracy: 0.2168\n",
            "Epoch 26/30\n",
            "120/120 [==============================] - 118s 989ms/step - loss: 0.0054 - accuracy: 1.0000 - val_loss: 7.7809 - val_accuracy: 0.2303\n",
            "Epoch 27/30\n",
            "120/120 [==============================] - 109s 915ms/step - loss: 0.0045 - accuracy: 1.0000 - val_loss: 7.9821 - val_accuracy: 0.2252\n",
            "Epoch 28/30\n",
            "120/120 [==============================] - 96s 805ms/step - loss: 0.0037 - accuracy: 1.0000 - val_loss: 8.1320 - val_accuracy: 0.2252\n",
            "Epoch 29/30\n",
            "120/120 [==============================] - 78s 648ms/step - loss: 0.0031 - accuracy: 1.0000 - val_loss: 8.3263 - val_accuracy: 0.2269\n",
            "Epoch 30/30\n",
            "120/120 [==============================] - 93s 778ms/step - loss: 0.0026 - accuracy: 1.0000 - val_loss: 8.3947 - val_accuracy: 0.2269\n"
          ]
        }
      ]
    },
    {
      "cell_type": "markdown",
      "metadata": {
        "id": "-deby4j-cOH8"
      },
      "source": [
        "### Plot training and validation loss\n",
        "Plot the training and validation loss. Does the model seem to be overfitting?\n"
      ]
    },
    {
      "cell_type": "code",
      "metadata": {
        "id": "c_t7xxyJcOgq",
        "colab": {
          "base_uri": "https://localhost:8080/",
          "height": 472
        },
        "outputId": "757b6448-cc47-4052-c087-7daa46f9706d"
      },
      "source": [
        "# Your code here\n",
        "import matplotlib.pyplot as plt\n",
        "\n",
        "# Extract the loss and validation loss\n",
        "train_loss = history.history['loss']\n",
        "val_loss = history.history['val_loss']\n",
        "\n",
        "# Extract the number of epochs\n",
        "epochs = range(1, len(train_loss) + 1)\n",
        "\n",
        "# Plot training and validation loss\n",
        "plt.plot(epochs, train_loss, label='Training loss')\n",
        "plt.plot(epochs, val_loss, label='Validation loss')\n",
        "plt.title('Training and Validation Loss')\n",
        "plt.xlabel('Epochs')\n",
        "plt.ylabel('Loss')\n",
        "plt.legend()\n",
        "plt.show()"
      ],
      "execution_count": 21,
      "outputs": [
        {
          "output_type": "display_data",
          "data": {
            "text/plain": [
              "<Figure size 640x480 with 1 Axes>"
            ],
            "image/png": "[encoded data removed]"
          },
          "metadata": {}
        }
      ]
    },
    {
      "cell_type": "markdown",
      "source": [
        "Yes. The training loss converages close to 0, and the validation loss does not converage and even increases as epochs increases. So, it shows that this model seems to be overfitting."
      ],
      "metadata": {
        "id": "GISb3apiRe04"
      }
    },
    {
      "cell_type": "markdown",
      "metadata": {
        "id": "-aUE1G5LcOp-"
      },
      "source": [
        "### Test accuracy\n",
        "Calculate and report the test set accuracy."
      ]
    },
    {
      "cell_type": "code",
      "metadata": {
        "id": "1QWgpKzEcOyf",
        "colab": {
          "base_uri": "https://localhost:8080/"
        },
        "outputId": "f4aa559b-0029-4ca0-e701-6f79db62e3e0"
      },
      "source": [
        "# Your code here\n",
        "_, test_accuracy = model.evaluate(test_generator, steps=validation_steps)\n",
        "print(\"Test Accuracy:\", test_accuracy)"
      ],
      "execution_count": 22,
      "outputs": [
        {
          "output_type": "stream",
          "name": "stdout",
          "text": [
            "30/30 [==============================] - 14s 453ms/step - loss: 8.3947 - accuracy: 0.2269\n",
            "Test Accuracy: 0.22689075767993927\n"
          ]
        }
      ]
    },
    {
      "cell_type": "markdown",
      "source": [
        "The test accuracy is 0.22689075767993927"
      ],
      "metadata": {
        "id": "sxk9fD0dSCbO"
      }
    },
    {
      "cell_type": "markdown",
      "metadata": {
        "id": "VSdWmpURcO56"
      },
      "source": [
        "### B. Using data augmentation\n",
        "Using the same architecture above, fit the CNN using data augmentation. You are free to choose the type of transformations made to the training images, but keep `batch_size` equal to 20 and the `steps_per_epoch` the same as in part A. Be sure to include a `Dropout` layer before the first dense layer. Run this model for 30 epochs. **Note that this should take about an hour to run.**"
      ]
    },
    {
      "cell_type": "markdown",
      "metadata": {
        "id": "gmZINhYMcca1"
      },
      "source": [
        "Check out a few examples of augmented images with the code below."
      ]
    },
    {
      "cell_type": "code",
      "metadata": {
        "id": "Uxbftu-ycckj",
        "colab": {
          "base_uri": "https://localhost:8080/",
          "height": 1000
        },
        "outputId": "020713d1-eec5-41a9-e4e8-c55c7c22e035"
      },
      "source": [
        "%matplotlib inline\n",
        "import matplotlib.pyplot as plt\n",
        "import os\n",
        "\n",
        "# This is module with image preprocessing utilities\n",
        "from keras.preprocessing import image\n",
        "\n",
        "fnames = [os.path.join(train_nodule, fname) for fname in os.listdir(train_nodule)]\n",
        "\n",
        "# We pick one image to \"augment\"\n",
        "img_path = fnames[3]\n",
        "\n",
        "# Read the image and resize it\n",
        "img = image.load_img(img_path, target_size=(64, 64))\n",
        "\n",
        "# Convert it to a Numpy array with shape (64, 64, 3)\n",
        "x = image.img_to_array(img)\n",
        "\n",
        "# Reshape it to (1, 64, 64, 3)\n",
        "x = x.reshape((1,) + x.shape)\n",
        "\n",
        "# The .flow() command below generates batches of randomly transformed images.\n",
        "# It will loop indefinitely, so we need to `break` the loop at some point!\n",
        "i = 0\n",
        "for batch in train_datagen.flow(x, batch_size=1):\n",
        "    plt.figure(i)\n",
        "    imgplot = plt.imshow(image.array_to_img(batch[0]))\n",
        "    i += 1\n",
        "    if i % 4 == 0:\n",
        "        break\n",
        "\n",
        "plt.show()"
      ],
      "execution_count": 15,
      "outputs": [
        {
          "output_type": "display_data",
          "data": {
            "text/plain": [
              "<Figure size 640x480 with 1 Axes>"
            ],
            "image/png": "[encoded data removed]"
          },
          "metadata": {}
        },
        {
          "output_type": "display_data",
          "data": {
            "text/plain": [
              "<Figure size 640x480 with 1 Axes>"
            ],
            "image/png": "[encoded data removed]"
          },
          "metadata": {}
        },
        {
          "output_type": "display_data",
          "data": {
            "text/plain": [
              "<Figure size 640x480 with 1 Axes>"
            ],
            "image/png": "[encoded data removed]"
          },
          "metadata": {}
        },
        {
          "output_type": "display_data",
          "data": {
            "text/plain": [
              "<Figure size 640x480 with 1 Axes>"
            ],
            "image/png": "[encoded data removed]"
          },
          "metadata": {}
        }
      ]
    },
    {
      "cell_type": "code",
      "metadata": {
        "id": "mxKGs-aBcPBA"
      },
      "source": [
        "# Your code here (train_datagen)\n",
        "# Rescale images and apply data augmentation\n",
        "train_datagen = ImageDataGenerator(\n",
        "    rescale=1./255,\n",
        "    rotation_range=20,\n",
        "    width_shift_range=0.2,\n",
        "    height_shift_range=0.2,\n",
        "    zoom_range=0.2,\n",
        "    horizontal_flip=True,\n",
        "    brightness_range=[0.2,1.2],\n",
        "    shear_range=0.2,\n",
        "    fill_mode='nearest')"
      ],
      "execution_count": 16,
      "outputs": []
    },
    {
      "cell_type": "code",
      "metadata": {
        "id": "x30rraK5ckmL",
        "colab": {
          "base_uri": "https://localhost:8080/"
        },
        "outputId": "98581064-cbde-4e21-8634-2d8e2c25b8bd"
      },
      "source": [
        "# Your code here (train_generator)\n",
        "# Training set generator\n",
        "train_generator = train_datagen.flow_from_directory(\n",
        "    train_dir,\n",
        "    target_size=target_size,\n",
        "    batch_size=batch_size,\n",
        "    class_mode=class_mode,\n",
        "    seed = 42)"
      ],
      "execution_count": 17,
      "outputs": [
        {
          "output_type": "stream",
          "name": "stdout",
          "text": [
            "Found 2400 images belonging to 7 classes.\n"
          ]
        }
      ]
    },
    {
      "cell_type": "code",
      "metadata": {
        "id": "k6aVR4_Kckt6",
        "colab": {
          "base_uri": "https://localhost:8080/"
        },
        "outputId": "84ccfc53-8481-4670-d92c-4f04c728a40c"
      },
      "source": [
        "# Your code here (Train network)\n",
        "steps_per_epoch = train_generator.samples // batch_size\n",
        "validation_steps = test_generator.samples // batch_size\n",
        "if train_generator.samples % batch_size != 0:\n",
        "    steps_per_epoch += 1\n",
        "if test_generator.samples % batch_size != 0:\n",
        "    validation_steps += 1\n",
        "\n",
        "tf.random.set_seed(42)\n",
        "# Compile the model\n",
        "model.compile(optimizer='adam',\n",
        "              loss='categorical_crossentropy',\n",
        "              metrics=['accuracy'])\n",
        "\n",
        "# Train the model\n",
        "history = model.fit(\n",
        "    train_generator,\n",
        "    steps_per_epoch=steps_per_epoch,\n",
        "    epochs=30,\n",
        "    validation_data=test_generator,\n",
        "    validation_steps=validation_steps)"
      ],
      "execution_count": null,
      "outputs": [
        {
          "output_type": "stream",
          "name": "stdout",
          "text": [
            "Epoch 1/30\n",
            "120/120 [==============================] - 594s 5s/step - loss: 1.9347 - accuracy: 0.1679 - val_loss: 1.9304 - val_accuracy: 0.1916\n",
            "Epoch 2/30\n",
            "120/120 [==============================] - 94s 783ms/step - loss: 1.9260 - accuracy: 0.1758 - val_loss: 1.9268 - val_accuracy: 0.1983\n",
            "Epoch 3/30\n",
            "120/120 [==============================] - 94s 783ms/step - loss: 1.9214 - accuracy: 0.1921 - val_loss: 1.9235 - val_accuracy: 0.1748\n",
            "Epoch 4/30\n",
            "120/120 [==============================] - 86s 719ms/step - loss: 1.9192 - accuracy: 0.2037 - val_loss: 1.9164 - val_accuracy: 0.2252\n",
            "Epoch 5/30\n",
            "120/120 [==============================] - 87s 721ms/step - loss: 1.9106 - accuracy: 0.2175 - val_loss: 1.9083 - val_accuracy: 0.2286\n",
            "Epoch 6/30\n",
            "120/120 [==============================] - 96s 803ms/step - loss: 1.9022 - accuracy: 0.2237 - val_loss: 1.9047 - val_accuracy: 0.1950\n",
            "Epoch 7/30\n",
            "120/120 [==============================] - 89s 741ms/step - loss: 1.8904 - accuracy: 0.2362 - val_loss: 1.8830 - val_accuracy: 0.1966\n",
            "Epoch 8/30\n",
            "120/120 [==============================] - 98s 818ms/step - loss: 1.8758 - accuracy: 0.2475 - val_loss: 1.9176 - val_accuracy: 0.2168\n",
            "Epoch 9/30\n",
            "120/120 [==============================] - 106s 883ms/step - loss: 1.8736 - accuracy: 0.2579 - val_loss: 1.9171 - val_accuracy: 0.2403\n",
            "Epoch 10/30\n",
            "120/120 [==============================] - 100s 831ms/step - loss: 1.8634 - accuracy: 0.2567 - val_loss: 1.9451 - val_accuracy: 0.2134\n",
            "Epoch 11/30\n",
            "120/120 [==============================] - 99s 822ms/step - loss: 1.8536 - accuracy: 0.2608 - val_loss: 1.9796 - val_accuracy: 0.2403\n",
            "Epoch 12/30\n",
            "120/120 [==============================] - 90s 751ms/step - loss: 1.8650 - accuracy: 0.2529 - val_loss: 1.8931 - val_accuracy: 0.2286\n",
            "Epoch 13/30\n",
            "103/120 [========================>.....] - ETA: 10s - loss: 1.8428 - accuracy: 0.2602"
          ]
        }
      ]
    },
    {
      "cell_type": "markdown",
      "metadata": {
        "id": "upxywur8cq3r"
      },
      "source": [
        "#### Plot training and validation loss\n",
        "Plot the training and validation loss. Does the model seem to be overfitting? Did data augmentation do anything to mitigate overfitting of the original model?\n"
      ]
    },
    {
      "cell_type": "code",
      "metadata": {
        "id": "4JnUmUqLctT6"
      },
      "source": [
        "# Your code here\n",
        "import matplotlib.pyplot as plt\n",
        "\n",
        "# Extract the loss and validation loss\n",
        "train_loss = history.history['loss']\n",
        "val_loss = history.history['val_loss']\n",
        "\n",
        "# Extract the number of epochs\n",
        "epochs = range(1, len(train_loss) + 1)\n",
        "\n",
        "# Plot training and validation loss\n",
        "plt.plot(epochs, train_loss, label='Training loss')\n",
        "plt.plot(epochs, val_loss, label='Validation loss')\n",
        "plt.title('Training and Validation Loss')\n",
        "plt.xlabel('Epochs')\n",
        "plt.ylabel('Loss')\n",
        "plt.legend()\n",
        "plt.show()"
      ],
      "execution_count": null,
      "outputs": []
    },
    {
      "cell_type": "markdown",
      "metadata": {
        "id": "gO4o9tAHcwQQ"
      },
      "source": [
        "#### Test accuracy\n",
        "Calculate and report the test set accuracy."
      ]
    },
    {
      "cell_type": "code",
      "metadata": {
        "id": "h7ZnxSWHctZW"
      },
      "source": [
        "# Your code here\n",
        "_, test_accuracy = model.evaluate(test_generator, steps=validation_steps)\n",
        "print(\"Test Accuracy:\", test_accuracy)"
      ],
      "execution_count": null,
      "outputs": []
    },
    {
      "cell_type": "markdown",
      "metadata": {
        "id": "-jcOQbByczYW"
      },
      "source": [
        "### C. Using a pretrained CNN without data augmentation\n",
        "\n",
        "Use one of the pre-trained models in Keras that has been trained using the Imagenet data set as a convolutional base. Extract features by running your training set through the base."
      ]
    },
    {
      "cell_type": "code",
      "metadata": {
        "id": "Hrim6OUYc114"
      },
      "source": [
        "# Your code here\n",
        "from keras.applications import VGG16\n",
        "\n",
        "# Load VGG16 pretrained model without the top classification layer\n",
        "conv_base = VGG16(weights='imagenet', include_top=False, input_shape=(64, 64, 3))\n",
        "\n",
        "# Without data augmentation here, rescale images directly\n",
        "datagen = ImageDataGenerator(rescale=1./255)\n",
        "\n",
        "# Create training set generator\n",
        "train_generator = datagen.flow_from_directory(\n",
        "    train_dir,\n",
        "    target_size = target_size,\n",
        "    batch_size = batch_size,\n",
        "    class_mode= None)\n",
        "\n",
        "# Extract features using pre-trained VGG16 model\n",
        "features_test = conv_base.predict(test_generator, steps=len(test_generator))\n",
        "features_train = conv_base.predict(train_generator, steps=len(train_generator))\n",
        "\n",
        "# Flatten the output from convolutional layers to fully connected layers\n",
        "features_train = np.reshape(features_train, (len(train_generator.filenames), 2 * 2 * 512))  # Adjust shape as per the last layer of the base model\n",
        "features_test = np.reshape(features_test, (len(test_generator.filenames), 2 * 2 * 512))\n",
        "print(\"Shape of extracted train features:\", features_train.shape)\n",
        "print(\"Shape of extracted test features:\", features_test.shape)"
      ],
      "execution_count": null,
      "outputs": []
    },
    {
      "cell_type": "markdown",
      "metadata": {
        "id": "nHWYuiKwc4dU"
      },
      "source": [
        "Take this output and train a classifier. You may use the classifier from previous parts of this question."
      ]
    },
    {
      "cell_type": "code",
      "metadata": {
        "id": "t_vhLJOBc4yW"
      },
      "source": [
        "# Your code here\n",
        "classifier_model = models.Sequential()\n",
        "classifier_model.add(layers.Dense(128, activation='relu', input_shape=(2 * 2 * 512,)))\n",
        "classifier_model.add(layers.Dropout(0.5))\n",
        "classifier_model.add(layers.Dense(64, activation='relu'))\n",
        "classifier_model.add(layers.Dense(7, activation='softmax'))\n",
        "\n",
        "tf.random.set_seed(42)\n",
        "# Compile the model\n",
        "classifier_model.compile(optimizer='adam',\n",
        "                         loss='sparse_categorical_crossentropy',\n",
        "                         metrics=['accuracy'])\n",
        "\n",
        "history = classifier_model.fit(features_train, train_generator.classes,\n",
        "                                epochs=30,\n",
        "                                batch_size=batch_size,\n",
        "                                validation_data=(features_test, test_generator.classes))"
      ],
      "execution_count": null,
      "outputs": []
    },
    {
      "cell_type": "markdown",
      "metadata": {
        "id": "59mXw8-ndGqZ"
      },
      "source": [
        "#### Plot training and validation loss\n",
        "Plot the training and validation loss. Does the model seem to be overfitting? Does this model improve on the original model?"
      ]
    },
    {
      "cell_type": "code",
      "metadata": {
        "id": "zt-YT4ZhdGyi"
      },
      "source": [
        "# Your code here\n",
        "import matplotlib.pyplot as plt\n",
        "\n",
        "# Extract the loss and validation loss\n",
        "train_loss = history.history['loss']\n",
        "val_loss = history.history['val_loss']\n",
        "\n",
        "# Extract the number of epochs\n",
        "epochs = range(1, len(train_loss) + 1)\n",
        "\n",
        "# Plot training and validation loss\n",
        "plt.plot(epochs, train_loss, label='Training loss')\n",
        "plt.plot(epochs, val_loss, label='Validation loss')\n",
        "plt.title('Training and Validation Loss')\n",
        "plt.xlabel('Epochs')\n",
        "plt.ylabel('Loss')\n",
        "plt.legend()\n",
        "plt.show()"
      ],
      "execution_count": null,
      "outputs": []
    },
    {
      "cell_type": "markdown",
      "metadata": {
        "id": "uOeTWuvFdG6E"
      },
      "source": [
        "#### Test accuracy\n",
        "Calculate and report the test set accuracy."
      ]
    },
    {
      "cell_type": "code",
      "metadata": {
        "id": "yH6o9efZdHA4"
      },
      "source": [
        "# Your code here\n",
        "_, test_accuracy = model.evaluate(test_generator, steps=validation_steps)\n",
        "print(\"Test Accuracy:\", test_accuracy)"
      ],
      "execution_count": null,
      "outputs": []
    },
    {
      "cell_type": "markdown",
      "metadata": {
        "id": "zpgqV1zgdHIa"
      },
      "source": [
        "### D. Summarize results\n",
        "- Summarize the results from the 3 models you built. Which model would you choose to make future predictions?\n",
        "\n",
        "Model A(without data augmentation) and B(with data augmentation) use our own version of CNN while Model C uses pre-trained model VGG16 to extract features of the original xray data and clssifies the images using a fully-connected head.\n",
        "\n",
        "If we look at the test accuracy in these three models, we can see they respectively have test accuarcy 0.2269, 0.2521, 0.2286 (All very low) Based on this, I would choose Model B(with data augmentation) to make future predictions since its test accuary is the highest.\n",
        "\n",
        "\n",
        "- List and describe at least 3 reasons for the poor performance of the models.\n",
        "\n",
        "Inadequate Training Data: CNN typically require large training data. If the training data is not representative of the real-world scenario, lacks diversity, or is too small, the model may not be able to learn effectively.  This can lead to a model that performs well on training data but poorly on testing or real-world data, due to its inability to generalize. Maybe there are not enough data samples in each class for the model to learn from.\n",
        "\n",
        "Data Quality Issues: If the medical images are not well-prepocessed or include incorrect data labels, this can lead to inaccurate models.\n",
        "\n",
        "Models overfitting: As indicated in the plots, these models perform well in the training data with training loss converges to 0, however the validation loss keeps increasing, showing the models perform badly on the unseen data. This shows overfitting happens in these models."
      ]
    }
  ]
}